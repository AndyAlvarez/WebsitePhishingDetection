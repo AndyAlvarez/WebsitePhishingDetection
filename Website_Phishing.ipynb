{
 "cells": [
  {
   "cell_type": "markdown",
   "id": "5c773481-3e85-4572-a40b-3c00f5b42363",
   "metadata": {},
   "source": [
    "### Imports"
   ]
  },
  {
   "cell_type": "code",
   "execution_count": 29,
   "id": "7a422fd9-e04b-433c-abb0-bc84f3411cc0",
   "metadata": {},
   "outputs": [],
   "source": [
    "from scipy.io import arff\n",
    "import pandas as pd\n",
    "import seaborn as sns\n",
    "from sklearn.model_selection import train_test_split \n",
    "from sklearn.ensemble import RandomForestClassifier\n",
    "from sklearn.metrics import classification_report\n",
    "from sklearn.metrics import confusion_matrix\n",
    "\n",
    "from tensorflow import keras\n",
    "from keras.models import Sequential\n",
    "from keras.layers import Dense, Dropout, Activation, Flatten\n",
    "from keras.layers import Conv2D, MaxPooling2D"
   ]
  },
  {
   "cell_type": "markdown",
   "id": "72386883-4bf8-4a7c-88b2-9ba28176fc36",
   "metadata": {},
   "source": [
    "### Preprocessing"
   ]
  },
  {
   "cell_type": "code",
   "execution_count": 30,
   "id": "15eef3f0-7fd8-465e-94ce-5373e8b1c317",
   "metadata": {},
   "outputs": [
    {
     "name": "stdout",
     "output_type": "stream",
     "text": [
      "@attribute SFH {1,-1,0}\n",
      "@attribute popUpWidnow {-1,0,1}\n",
      "@attribute SSLfinal_State {1,-1,0}\n",
      "@attribute Request_URL {-1,0,1}\n",
      "@attribute URL_of_Anchor {-1,0,1}\n",
      "@attribute web_traffic {1,0,-1}\n",
      "@attribute URL_Length {1,-1,0}\n",
      "@attribute age_of_domain {1,-1}\n",
      "@attribute having_IP_Address {0,1}\n",
      "@attribute Result {0,1,-1}\n",
      "\n",
      "1: Legitimate\n",
      "0: Suspicious\n",
      "-1: Phishy\n"
     ]
    }
   ],
   "source": [
    "# Data Interpretation\n",
    "print(\"@attribute SFH {1,-1,0}\\n@attribute popUpWidnow {-1,0,1}\\n@attribute SSLfinal_State {1,-1,0}\\n@attribute Request_URL {-1,0,1}\\n@attribute URL_of_Anchor {-1,0,1}\\n@attribute web_traffic {1,0,-1}\\n@attribute URL_Length {1,-1,0}\\n@attribute age_of_domain {1,-1}\\n@attribute having_IP_Address {0,1}\\n@attribute Result {0,1,-1}\")\n",
    "print(\"\\n1: Legitimate\\n0: Suspicious\\n-1: Phishy\")"
   ]
  },
  {
   "cell_type": "code",
   "execution_count": 31,
   "id": "2978f303-08ad-4a3e-bcac-f2e8382731a2",
   "metadata": {},
   "outputs": [
    {
     "data": {
      "text/html": [
       "<div>\n",
       "<style scoped>\n",
       "    .dataframe tbody tr th:only-of-type {\n",
       "        vertical-align: middle;\n",
       "    }\n",
       "\n",
       "    .dataframe tbody tr th {\n",
       "        vertical-align: top;\n",
       "    }\n",
       "\n",
       "    .dataframe thead th {\n",
       "        text-align: right;\n",
       "    }\n",
       "</style>\n",
       "<table border=\"1\" class=\"dataframe\">\n",
       "  <thead>\n",
       "    <tr style=\"text-align: right;\">\n",
       "      <th></th>\n",
       "      <th>SFH</th>\n",
       "      <th>popUpWidnow</th>\n",
       "      <th>SSLfinal_State</th>\n",
       "      <th>Request_URL</th>\n",
       "      <th>URL_of_Anchor</th>\n",
       "      <th>web_traffic</th>\n",
       "      <th>URL_Length</th>\n",
       "      <th>age_of_domain</th>\n",
       "      <th>having_IP_Address</th>\n",
       "      <th>Result</th>\n",
       "    </tr>\n",
       "  </thead>\n",
       "  <tbody>\n",
       "    <tr>\n",
       "      <th>0</th>\n",
       "      <td>b'1'</td>\n",
       "      <td>b'-1'</td>\n",
       "      <td>b'1'</td>\n",
       "      <td>b'-1'</td>\n",
       "      <td>b'-1'</td>\n",
       "      <td>b'1'</td>\n",
       "      <td>b'1'</td>\n",
       "      <td>b'1'</td>\n",
       "      <td>b'0'</td>\n",
       "      <td>b'0'</td>\n",
       "    </tr>\n",
       "    <tr>\n",
       "      <th>1</th>\n",
       "      <td>b'-1'</td>\n",
       "      <td>b'-1'</td>\n",
       "      <td>b'-1'</td>\n",
       "      <td>b'-1'</td>\n",
       "      <td>b'-1'</td>\n",
       "      <td>b'0'</td>\n",
       "      <td>b'1'</td>\n",
       "      <td>b'1'</td>\n",
       "      <td>b'1'</td>\n",
       "      <td>b'1'</td>\n",
       "    </tr>\n",
       "    <tr>\n",
       "      <th>2</th>\n",
       "      <td>b'1'</td>\n",
       "      <td>b'-1'</td>\n",
       "      <td>b'0'</td>\n",
       "      <td>b'0'</td>\n",
       "      <td>b'-1'</td>\n",
       "      <td>b'0'</td>\n",
       "      <td>b'-1'</td>\n",
       "      <td>b'1'</td>\n",
       "      <td>b'0'</td>\n",
       "      <td>b'1'</td>\n",
       "    </tr>\n",
       "    <tr>\n",
       "      <th>3</th>\n",
       "      <td>b'1'</td>\n",
       "      <td>b'0'</td>\n",
       "      <td>b'1'</td>\n",
       "      <td>b'-1'</td>\n",
       "      <td>b'-1'</td>\n",
       "      <td>b'0'</td>\n",
       "      <td>b'1'</td>\n",
       "      <td>b'1'</td>\n",
       "      <td>b'0'</td>\n",
       "      <td>b'0'</td>\n",
       "    </tr>\n",
       "    <tr>\n",
       "      <th>4</th>\n",
       "      <td>b'-1'</td>\n",
       "      <td>b'-1'</td>\n",
       "      <td>b'1'</td>\n",
       "      <td>b'-1'</td>\n",
       "      <td>b'0'</td>\n",
       "      <td>b'0'</td>\n",
       "      <td>b'-1'</td>\n",
       "      <td>b'1'</td>\n",
       "      <td>b'0'</td>\n",
       "      <td>b'1'</td>\n",
       "    </tr>\n",
       "    <tr>\n",
       "      <th>...</th>\n",
       "      <td>...</td>\n",
       "      <td>...</td>\n",
       "      <td>...</td>\n",
       "      <td>...</td>\n",
       "      <td>...</td>\n",
       "      <td>...</td>\n",
       "      <td>...</td>\n",
       "      <td>...</td>\n",
       "      <td>...</td>\n",
       "      <td>...</td>\n",
       "    </tr>\n",
       "    <tr>\n",
       "      <th>1348</th>\n",
       "      <td>b'-1'</td>\n",
       "      <td>b'-1'</td>\n",
       "      <td>b'-1'</td>\n",
       "      <td>b'-1'</td>\n",
       "      <td>b'-1'</td>\n",
       "      <td>b'-1'</td>\n",
       "      <td>b'0'</td>\n",
       "      <td>b'1'</td>\n",
       "      <td>b'0'</td>\n",
       "      <td>b'1'</td>\n",
       "    </tr>\n",
       "    <tr>\n",
       "      <th>1349</th>\n",
       "      <td>b'-1'</td>\n",
       "      <td>b'0'</td>\n",
       "      <td>b'1'</td>\n",
       "      <td>b'0'</td>\n",
       "      <td>b'-1'</td>\n",
       "      <td>b'0'</td>\n",
       "      <td>b'0'</td>\n",
       "      <td>b'1'</td>\n",
       "      <td>b'0'</td>\n",
       "      <td>b'-1'</td>\n",
       "    </tr>\n",
       "    <tr>\n",
       "      <th>1350</th>\n",
       "      <td>b'-1'</td>\n",
       "      <td>b'0'</td>\n",
       "      <td>b'-1'</td>\n",
       "      <td>b'-1'</td>\n",
       "      <td>b'-1'</td>\n",
       "      <td>b'0'</td>\n",
       "      <td>b'-1'</td>\n",
       "      <td>b'-1'</td>\n",
       "      <td>b'0'</td>\n",
       "      <td>b'1'</td>\n",
       "    </tr>\n",
       "    <tr>\n",
       "      <th>1351</th>\n",
       "      <td>b'0'</td>\n",
       "      <td>b'0'</td>\n",
       "      <td>b'1'</td>\n",
       "      <td>b'0'</td>\n",
       "      <td>b'0'</td>\n",
       "      <td>b'0'</td>\n",
       "      <td>b'-1'</td>\n",
       "      <td>b'1'</td>\n",
       "      <td>b'0'</td>\n",
       "      <td>b'1'</td>\n",
       "    </tr>\n",
       "    <tr>\n",
       "      <th>1352</th>\n",
       "      <td>b'1'</td>\n",
       "      <td>b'0'</td>\n",
       "      <td>b'1'</td>\n",
       "      <td>b'1'</td>\n",
       "      <td>b'1'</td>\n",
       "      <td>b'0'</td>\n",
       "      <td>b'-1'</td>\n",
       "      <td>b'-1'</td>\n",
       "      <td>b'0'</td>\n",
       "      <td>b'-1'</td>\n",
       "    </tr>\n",
       "  </tbody>\n",
       "</table>\n",
       "<p>1353 rows × 10 columns</p>\n",
       "</div>"
      ],
      "text/plain": [
       "        SFH popUpWidnow SSLfinal_State Request_URL URL_of_Anchor web_traffic  \\\n",
       "0      b'1'       b'-1'           b'1'       b'-1'         b'-1'        b'1'   \n",
       "1     b'-1'       b'-1'          b'-1'       b'-1'         b'-1'        b'0'   \n",
       "2      b'1'       b'-1'           b'0'        b'0'         b'-1'        b'0'   \n",
       "3      b'1'        b'0'           b'1'       b'-1'         b'-1'        b'0'   \n",
       "4     b'-1'       b'-1'           b'1'       b'-1'          b'0'        b'0'   \n",
       "...     ...         ...            ...         ...           ...         ...   \n",
       "1348  b'-1'       b'-1'          b'-1'       b'-1'         b'-1'       b'-1'   \n",
       "1349  b'-1'        b'0'           b'1'        b'0'         b'-1'        b'0'   \n",
       "1350  b'-1'        b'0'          b'-1'       b'-1'         b'-1'        b'0'   \n",
       "1351   b'0'        b'0'           b'1'        b'0'          b'0'        b'0'   \n",
       "1352   b'1'        b'0'           b'1'        b'1'          b'1'        b'0'   \n",
       "\n",
       "     URL_Length age_of_domain having_IP_Address Result  \n",
       "0          b'1'          b'1'              b'0'   b'0'  \n",
       "1          b'1'          b'1'              b'1'   b'1'  \n",
       "2         b'-1'          b'1'              b'0'   b'1'  \n",
       "3          b'1'          b'1'              b'0'   b'0'  \n",
       "4         b'-1'          b'1'              b'0'   b'1'  \n",
       "...         ...           ...               ...    ...  \n",
       "1348       b'0'          b'1'              b'0'   b'1'  \n",
       "1349       b'0'          b'1'              b'0'  b'-1'  \n",
       "1350      b'-1'         b'-1'              b'0'   b'1'  \n",
       "1351      b'-1'          b'1'              b'0'   b'1'  \n",
       "1352      b'-1'         b'-1'              b'0'  b'-1'  \n",
       "\n",
       "[1353 rows x 10 columns]"
      ]
     },
     "execution_count": 31,
     "metadata": {},
     "output_type": "execute_result"
    }
   ],
   "source": [
    "# Reading an arff file with scipy package\n",
    "data = arff.loadarff(r\"PhishingData.arff\")\n",
    "df = pd.DataFrame(data[0])\n",
    "df"
   ]
  },
  {
   "cell_type": "code",
   "execution_count": 32,
   "id": "8c1a29b0-9510-40c0-af13-6a4b21be1bc2",
   "metadata": {},
   "outputs": [
    {
     "data": {
      "text/html": [
       "<div>\n",
       "<style scoped>\n",
       "    .dataframe tbody tr th:only-of-type {\n",
       "        vertical-align: middle;\n",
       "    }\n",
       "\n",
       "    .dataframe tbody tr th {\n",
       "        vertical-align: top;\n",
       "    }\n",
       "\n",
       "    .dataframe thead th {\n",
       "        text-align: right;\n",
       "    }\n",
       "</style>\n",
       "<table border=\"1\" class=\"dataframe\">\n",
       "  <thead>\n",
       "    <tr style=\"text-align: right;\">\n",
       "      <th></th>\n",
       "      <th>SFH</th>\n",
       "      <th>popUpWidnow</th>\n",
       "      <th>SSLfinal_State</th>\n",
       "      <th>Request_URL</th>\n",
       "      <th>URL_of_Anchor</th>\n",
       "      <th>web_traffic</th>\n",
       "      <th>URL_Length</th>\n",
       "      <th>age_of_domain</th>\n",
       "      <th>having_IP_Address</th>\n",
       "      <th>Result</th>\n",
       "    </tr>\n",
       "  </thead>\n",
       "  <tbody>\n",
       "    <tr>\n",
       "      <th>0</th>\n",
       "      <td>1</td>\n",
       "      <td>-1</td>\n",
       "      <td>1</td>\n",
       "      <td>-1</td>\n",
       "      <td>-1</td>\n",
       "      <td>1</td>\n",
       "      <td>1</td>\n",
       "      <td>1</td>\n",
       "      <td>0</td>\n",
       "      <td>0</td>\n",
       "    </tr>\n",
       "    <tr>\n",
       "      <th>1</th>\n",
       "      <td>-1</td>\n",
       "      <td>-1</td>\n",
       "      <td>-1</td>\n",
       "      <td>-1</td>\n",
       "      <td>-1</td>\n",
       "      <td>0</td>\n",
       "      <td>1</td>\n",
       "      <td>1</td>\n",
       "      <td>1</td>\n",
       "      <td>1</td>\n",
       "    </tr>\n",
       "    <tr>\n",
       "      <th>2</th>\n",
       "      <td>1</td>\n",
       "      <td>-1</td>\n",
       "      <td>0</td>\n",
       "      <td>0</td>\n",
       "      <td>-1</td>\n",
       "      <td>0</td>\n",
       "      <td>-1</td>\n",
       "      <td>1</td>\n",
       "      <td>0</td>\n",
       "      <td>1</td>\n",
       "    </tr>\n",
       "    <tr>\n",
       "      <th>3</th>\n",
       "      <td>1</td>\n",
       "      <td>0</td>\n",
       "      <td>1</td>\n",
       "      <td>-1</td>\n",
       "      <td>-1</td>\n",
       "      <td>0</td>\n",
       "      <td>1</td>\n",
       "      <td>1</td>\n",
       "      <td>0</td>\n",
       "      <td>0</td>\n",
       "    </tr>\n",
       "    <tr>\n",
       "      <th>4</th>\n",
       "      <td>-1</td>\n",
       "      <td>-1</td>\n",
       "      <td>1</td>\n",
       "      <td>-1</td>\n",
       "      <td>0</td>\n",
       "      <td>0</td>\n",
       "      <td>-1</td>\n",
       "      <td>1</td>\n",
       "      <td>0</td>\n",
       "      <td>1</td>\n",
       "    </tr>\n",
       "    <tr>\n",
       "      <th>...</th>\n",
       "      <td>...</td>\n",
       "      <td>...</td>\n",
       "      <td>...</td>\n",
       "      <td>...</td>\n",
       "      <td>...</td>\n",
       "      <td>...</td>\n",
       "      <td>...</td>\n",
       "      <td>...</td>\n",
       "      <td>...</td>\n",
       "      <td>...</td>\n",
       "    </tr>\n",
       "    <tr>\n",
       "      <th>1348</th>\n",
       "      <td>-1</td>\n",
       "      <td>-1</td>\n",
       "      <td>-1</td>\n",
       "      <td>-1</td>\n",
       "      <td>-1</td>\n",
       "      <td>-1</td>\n",
       "      <td>0</td>\n",
       "      <td>1</td>\n",
       "      <td>0</td>\n",
       "      <td>1</td>\n",
       "    </tr>\n",
       "    <tr>\n",
       "      <th>1349</th>\n",
       "      <td>-1</td>\n",
       "      <td>0</td>\n",
       "      <td>1</td>\n",
       "      <td>0</td>\n",
       "      <td>-1</td>\n",
       "      <td>0</td>\n",
       "      <td>0</td>\n",
       "      <td>1</td>\n",
       "      <td>0</td>\n",
       "      <td>-1</td>\n",
       "    </tr>\n",
       "    <tr>\n",
       "      <th>1350</th>\n",
       "      <td>-1</td>\n",
       "      <td>0</td>\n",
       "      <td>-1</td>\n",
       "      <td>-1</td>\n",
       "      <td>-1</td>\n",
       "      <td>0</td>\n",
       "      <td>-1</td>\n",
       "      <td>-1</td>\n",
       "      <td>0</td>\n",
       "      <td>1</td>\n",
       "    </tr>\n",
       "    <tr>\n",
       "      <th>1351</th>\n",
       "      <td>0</td>\n",
       "      <td>0</td>\n",
       "      <td>1</td>\n",
       "      <td>0</td>\n",
       "      <td>0</td>\n",
       "      <td>0</td>\n",
       "      <td>-1</td>\n",
       "      <td>1</td>\n",
       "      <td>0</td>\n",
       "      <td>1</td>\n",
       "    </tr>\n",
       "    <tr>\n",
       "      <th>1352</th>\n",
       "      <td>1</td>\n",
       "      <td>0</td>\n",
       "      <td>1</td>\n",
       "      <td>1</td>\n",
       "      <td>1</td>\n",
       "      <td>0</td>\n",
       "      <td>-1</td>\n",
       "      <td>-1</td>\n",
       "      <td>0</td>\n",
       "      <td>-1</td>\n",
       "    </tr>\n",
       "  </tbody>\n",
       "</table>\n",
       "<p>1353 rows × 10 columns</p>\n",
       "</div>"
      ],
      "text/plain": [
       "     SFH popUpWidnow SSLfinal_State Request_URL URL_of_Anchor web_traffic  \\\n",
       "0      1          -1              1          -1            -1           1   \n",
       "1     -1          -1             -1          -1            -1           0   \n",
       "2      1          -1              0           0            -1           0   \n",
       "3      1           0              1          -1            -1           0   \n",
       "4     -1          -1              1          -1             0           0   \n",
       "...   ..         ...            ...         ...           ...         ...   \n",
       "1348  -1          -1             -1          -1            -1          -1   \n",
       "1349  -1           0              1           0            -1           0   \n",
       "1350  -1           0             -1          -1            -1           0   \n",
       "1351   0           0              1           0             0           0   \n",
       "1352   1           0              1           1             1           0   \n",
       "\n",
       "     URL_Length age_of_domain having_IP_Address Result  \n",
       "0             1             1                 0      0  \n",
       "1             1             1                 1      1  \n",
       "2            -1             1                 0      1  \n",
       "3             1             1                 0      0  \n",
       "4            -1             1                 0      1  \n",
       "...         ...           ...               ...    ...  \n",
       "1348          0             1                 0      1  \n",
       "1349          0             1                 0     -1  \n",
       "1350         -1            -1                 0      1  \n",
       "1351         -1             1                 0      1  \n",
       "1352         -1            -1                 0     -1  \n",
       "\n",
       "[1353 rows x 10 columns]"
      ]
     },
     "execution_count": 32,
     "metadata": {},
     "output_type": "execute_result"
    }
   ],
   "source": [
    "# Removing the'b' from the dataframe\n",
    "data = df.apply(lambda x: x.str.decode('utf8'))\n",
    "data"
   ]
  },
  {
   "cell_type": "code",
   "execution_count": 33,
   "id": "e8ef43da-81dd-4dc8-8559-72105ecbc793",
   "metadata": {},
   "outputs": [
    {
     "name": "stdout",
     "output_type": "stream",
     "text": [
      "Checking for NaN Values:\n",
      "SFH                  False\n",
      "popUpWidnow          False\n",
      "SSLfinal_State       False\n",
      "Request_URL          False\n",
      "URL_of_Anchor        False\n",
      "web_traffic          False\n",
      "URL_Length           False\n",
      "age_of_domain        False\n",
      "having_IP_Address    False\n",
      "Result               False\n",
      "dtype: bool \n",
      "\n",
      "Checking for Null Values:\n",
      "SFH                  False\n",
      "popUpWidnow          False\n",
      "SSLfinal_State       False\n",
      "Request_URL          False\n",
      "URL_of_Anchor        False\n",
      "web_traffic          False\n",
      "URL_Length           False\n",
      "age_of_domain        False\n",
      "having_IP_Address    False\n",
      "Result               False\n",
      "dtype: bool\n"
     ]
    }
   ],
   "source": [
    "#Checking for NaN\n",
    "print(\"Checking for NaN Values:\")\n",
    "print(data.isna().any(), '\\n')\n",
    "\n",
    "# Checking for Null Data\n",
    "print(\"Checking for Null Values:\")\n",
    "print(data.isnull().any())"
   ]
  },
  {
   "cell_type": "code",
   "execution_count": 34,
   "id": "4b5340a5-2f4f-4999-8753-9c11331d3eea",
   "metadata": {},
   "outputs": [
    {
     "name": "stdout",
     "output_type": "stream",
     "text": [
      "-1    702\n",
      "1     548\n",
      "0     103\n",
      "Name: Result, dtype: int64\n",
      "\n",
      "1: Legitimate\n",
      "0: Suspicious\n",
      "-1: Phishy\n"
     ]
    },
    {
     "data": {
      "text/plain": [
       "<AxesSubplot:xlabel='Result', ylabel='count'>"
      ]
     },
     "execution_count": 34,
     "metadata": {},
     "output_type": "execute_result"
    },
    {
     "data": {
      "image/png": "[encoded data removed]",
      "text/plain": [
       "<Figure size 432x288 with 1 Axes>"
      ]
     },
     "metadata": {
      "needs_background": "light"
     },
     "output_type": "display_data"
    }
   ],
   "source": [
    "import warnings\n",
    "print(data.Result.value_counts().sort_values(ascending = False))\n",
    "warnings.filterwarnings(\"ignore\")\n",
    "print(\"\\n1: Legitimate\\n0: Suspicious\\n-1: Phishy\")\n",
    "sns.countplot(data['Result']) # change color for meaning. EX: Phishy -> RED"
   ]
  },
  {
   "cell_type": "code",
   "execution_count": 35,
   "id": "b6c914bc-dbe2-45ae-ad77-bb70153756f2",
   "metadata": {},
   "outputs": [],
   "source": [
    "x = data.drop(columns = ['Result'], axis = 1)\n",
    "y = data['Result']"
   ]
  },
  {
   "cell_type": "code",
   "execution_count": 36,
   "id": "0e6f6f8b-ddc9-4cf7-afb9-1beaa7cea551",
   "metadata": {},
   "outputs": [
    {
     "name": "stdout",
     "output_type": "stream",
     "text": [
      "Train (Features):\n"
     ]
    },
    {
     "data": {
      "text/html": [
       "<div>\n",
       "<style scoped>\n",
       "    .dataframe tbody tr th:only-of-type {\n",
       "        vertical-align: middle;\n",
       "    }\n",
       "\n",
       "    .dataframe tbody tr th {\n",
       "        vertical-align: top;\n",
       "    }\n",
       "\n",
       "    .dataframe thead th {\n",
       "        text-align: right;\n",
       "    }\n",
       "</style>\n",
       "<table border=\"1\" class=\"dataframe\">\n",
       "  <thead>\n",
       "    <tr style=\"text-align: right;\">\n",
       "      <th></th>\n",
       "      <th>SFH</th>\n",
       "      <th>popUpWidnow</th>\n",
       "      <th>SSLfinal_State</th>\n",
       "      <th>Request_URL</th>\n",
       "      <th>URL_of_Anchor</th>\n",
       "      <th>web_traffic</th>\n",
       "      <th>URL_Length</th>\n",
       "      <th>age_of_domain</th>\n",
       "      <th>having_IP_Address</th>\n",
       "    </tr>\n",
       "  </thead>\n",
       "  <tbody>\n",
       "    <tr>\n",
       "      <th>777</th>\n",
       "      <td>0</td>\n",
       "      <td>-1</td>\n",
       "      <td>0</td>\n",
       "      <td>0</td>\n",
       "      <td>0</td>\n",
       "      <td>-1</td>\n",
       "      <td>0</td>\n",
       "      <td>1</td>\n",
       "      <td>0</td>\n",
       "    </tr>\n",
       "    <tr>\n",
       "      <th>872</th>\n",
       "      <td>-1</td>\n",
       "      <td>-1</td>\n",
       "      <td>-1</td>\n",
       "      <td>-1</td>\n",
       "      <td>-1</td>\n",
       "      <td>-1</td>\n",
       "      <td>0</td>\n",
       "      <td>1</td>\n",
       "      <td>0</td>\n",
       "    </tr>\n",
       "    <tr>\n",
       "      <th>482</th>\n",
       "      <td>1</td>\n",
       "      <td>0</td>\n",
       "      <td>1</td>\n",
       "      <td>1</td>\n",
       "      <td>1</td>\n",
       "      <td>0</td>\n",
       "      <td>0</td>\n",
       "      <td>1</td>\n",
       "      <td>0</td>\n",
       "    </tr>\n",
       "    <tr>\n",
       "      <th>526</th>\n",
       "      <td>-1</td>\n",
       "      <td>0</td>\n",
       "      <td>0</td>\n",
       "      <td>-1</td>\n",
       "      <td>-1</td>\n",
       "      <td>0</td>\n",
       "      <td>-1</td>\n",
       "      <td>1</td>\n",
       "      <td>0</td>\n",
       "    </tr>\n",
       "    <tr>\n",
       "      <th>344</th>\n",
       "      <td>-1</td>\n",
       "      <td>0</td>\n",
       "      <td>-1</td>\n",
       "      <td>1</td>\n",
       "      <td>1</td>\n",
       "      <td>0</td>\n",
       "      <td>0</td>\n",
       "      <td>1</td>\n",
       "      <td>0</td>\n",
       "    </tr>\n",
       "    <tr>\n",
       "      <th>...</th>\n",
       "      <td>...</td>\n",
       "      <td>...</td>\n",
       "      <td>...</td>\n",
       "      <td>...</td>\n",
       "      <td>...</td>\n",
       "      <td>...</td>\n",
       "      <td>...</td>\n",
       "      <td>...</td>\n",
       "      <td>...</td>\n",
       "    </tr>\n",
       "    <tr>\n",
       "      <th>1095</th>\n",
       "      <td>1</td>\n",
       "      <td>0</td>\n",
       "      <td>1</td>\n",
       "      <td>1</td>\n",
       "      <td>0</td>\n",
       "      <td>0</td>\n",
       "      <td>1</td>\n",
       "      <td>1</td>\n",
       "      <td>0</td>\n",
       "    </tr>\n",
       "    <tr>\n",
       "      <th>1130</th>\n",
       "      <td>1</td>\n",
       "      <td>0</td>\n",
       "      <td>1</td>\n",
       "      <td>0</td>\n",
       "      <td>-1</td>\n",
       "      <td>1</td>\n",
       "      <td>1</td>\n",
       "      <td>-1</td>\n",
       "      <td>0</td>\n",
       "    </tr>\n",
       "    <tr>\n",
       "      <th>1294</th>\n",
       "      <td>-1</td>\n",
       "      <td>-1</td>\n",
       "      <td>-1</td>\n",
       "      <td>0</td>\n",
       "      <td>-1</td>\n",
       "      <td>0</td>\n",
       "      <td>1</td>\n",
       "      <td>1</td>\n",
       "      <td>0</td>\n",
       "    </tr>\n",
       "    <tr>\n",
       "      <th>860</th>\n",
       "      <td>-1</td>\n",
       "      <td>-1</td>\n",
       "      <td>-1</td>\n",
       "      <td>0</td>\n",
       "      <td>-1</td>\n",
       "      <td>0</td>\n",
       "      <td>0</td>\n",
       "      <td>1</td>\n",
       "      <td>0</td>\n",
       "    </tr>\n",
       "    <tr>\n",
       "      <th>1126</th>\n",
       "      <td>1</td>\n",
       "      <td>-1</td>\n",
       "      <td>1</td>\n",
       "      <td>-1</td>\n",
       "      <td>0</td>\n",
       "      <td>1</td>\n",
       "      <td>-1</td>\n",
       "      <td>-1</td>\n",
       "      <td>0</td>\n",
       "    </tr>\n",
       "  </tbody>\n",
       "</table>\n",
       "<p>1014 rows × 9 columns</p>\n",
       "</div>"
      ],
      "text/plain": [
       "     SFH popUpWidnow SSLfinal_State Request_URL URL_of_Anchor web_traffic  \\\n",
       "777    0          -1              0           0             0          -1   \n",
       "872   -1          -1             -1          -1            -1          -1   \n",
       "482    1           0              1           1             1           0   \n",
       "526   -1           0              0          -1            -1           0   \n",
       "344   -1           0             -1           1             1           0   \n",
       "...   ..         ...            ...         ...           ...         ...   \n",
       "1095   1           0              1           1             0           0   \n",
       "1130   1           0              1           0            -1           1   \n",
       "1294  -1          -1             -1           0            -1           0   \n",
       "860   -1          -1             -1           0            -1           0   \n",
       "1126   1          -1              1          -1             0           1   \n",
       "\n",
       "     URL_Length age_of_domain having_IP_Address  \n",
       "777           0             1                 0  \n",
       "872           0             1                 0  \n",
       "482           0             1                 0  \n",
       "526          -1             1                 0  \n",
       "344           0             1                 0  \n",
       "...         ...           ...               ...  \n",
       "1095          1             1                 0  \n",
       "1130          1            -1                 0  \n",
       "1294          1             1                 0  \n",
       "860           0             1                 0  \n",
       "1126         -1            -1                 0  \n",
       "\n",
       "[1014 rows x 9 columns]"
      ]
     },
     "execution_count": 36,
     "metadata": {},
     "output_type": "execute_result"
    }
   ],
   "source": [
    "xtrain, xtest, ytrain, ytest = train_test_split(x, y, test_size=0.25, train_size=0.75, random_state = 42)\n",
    "print(\"Train (Features):\")\n",
    "xtrain"
   ]
  },
  {
   "cell_type": "code",
   "execution_count": 37,
   "id": "5b0a2131-3cd5-4d23-ac88-9c43e88ead51",
   "metadata": {},
   "outputs": [
    {
     "name": "stdout",
     "output_type": "stream",
     "text": [
      "Train (Target Column)\n"
     ]
    },
    {
     "data": {
      "text/plain": [
       "777      0\n",
       "872      1\n",
       "482     -1\n",
       "526      1\n",
       "344      1\n",
       "        ..\n",
       "1095    -1\n",
       "1130    -1\n",
       "1294     1\n",
       "860      1\n",
       "1126     0\n",
       "Name: Result, Length: 1014, dtype: object"
      ]
     },
     "execution_count": 37,
     "metadata": {},
     "output_type": "execute_result"
    }
   ],
   "source": [
    "print(\"Train (Target Column)\")\n",
    "ytrain"
   ]
  },
  {
   "cell_type": "code",
   "execution_count": 38,
   "id": "bc1d9594-413a-4291-a52b-87505e233d41",
   "metadata": {},
   "outputs": [
    {
     "name": "stdout",
     "output_type": "stream",
     "text": [
      "(1014, 9)\n",
      "(339, 9)\n"
     ]
    }
   ],
   "source": [
    "print(xtrain.shape)\n",
    "print(xtest.shape)"
   ]
  },
  {
   "cell_type": "markdown",
   "id": "e52b032d-2293-4a89-bbea-8c98433a6bed",
   "metadata": {
    "tags": []
   },
   "source": [
    "### Random Forest Classifier"
   ]
  },
  {
   "cell_type": "code",
   "execution_count": 39,
   "id": "ca3785a2-0a27-4e87-bcb5-05bf4b9ba407",
   "metadata": {},
   "outputs": [],
   "source": [
    "rf = RandomForestClassifier(n_estimators = 1000)"
   ]
  },
  {
   "cell_type": "code",
   "execution_count": 40,
   "id": "27b3075b-4bfc-4737-a656-a5cd85b4638f",
   "metadata": {},
   "outputs": [
    {
     "data": {
      "text/plain": [
       "RandomForestClassifier(n_estimators=1000)"
      ]
     },
     "execution_count": 40,
     "metadata": {},
     "output_type": "execute_result"
    }
   ],
   "source": [
    "rf.fit(xtrain, ytrain)"
   ]
  },
  {
   "cell_type": "code",
   "execution_count": 41,
   "id": "a0778b9b-b30c-466c-9ac7-d9b256cc9b90",
   "metadata": {},
   "outputs": [],
   "source": [
    "rf_pred = rf.predict(xtest)"
   ]
  },
  {
   "cell_type": "code",
   "execution_count": 47,
   "id": "bb0dac1d-556b-40e2-b824-7701bbb274a0",
   "metadata": {},
   "outputs": [
    {
     "name": "stdout",
     "output_type": "stream",
     "text": [
      "\n",
      "\n",
      "n = 1               precision    recall  f1-score   support\n",
      "\n",
      "          -1       0.91      0.92      0.91       169\n",
      "           0       0.87      0.84      0.85        31\n",
      "           1       0.89      0.89      0.89       139\n",
      "\n",
      "    accuracy                           0.90       339\n",
      "   macro avg       0.89      0.88      0.89       339\n",
      "weighted avg       0.90      0.90      0.90       339\n",
      "\n",
      "\n",
      "\n",
      "n = 50               precision    recall  f1-score   support\n",
      "\n",
      "          -1       0.91      0.92      0.92       169\n",
      "           0       0.87      0.84      0.85        31\n",
      "           1       0.90      0.89      0.90       139\n",
      "\n",
      "    accuracy                           0.90       339\n",
      "   macro avg       0.89      0.88      0.89       339\n",
      "weighted avg       0.90      0.90      0.90       339\n",
      "\n",
      "\n",
      "\n",
      "n = 100               precision    recall  f1-score   support\n",
      "\n",
      "          -1       0.91      0.92      0.92       169\n",
      "           0       0.87      0.84      0.85        31\n",
      "           1       0.90      0.89      0.90       139\n",
      "\n",
      "    accuracy                           0.90       339\n",
      "   macro avg       0.89      0.88      0.89       339\n",
      "weighted avg       0.90      0.90      0.90       339\n",
      "\n",
      "\n",
      "\n",
      "n = 200               precision    recall  f1-score   support\n",
      "\n",
      "          -1       0.91      0.92      0.92       169\n",
      "           0       0.89      0.81      0.85        31\n",
      "           1       0.89      0.90      0.90       139\n",
      "\n",
      "    accuracy                           0.90       339\n",
      "   macro avg       0.90      0.88      0.89       339\n",
      "weighted avg       0.90      0.90      0.90       339\n",
      "\n",
      "\n",
      "\n",
      "n = 400               precision    recall  f1-score   support\n",
      "\n",
      "          -1       0.91      0.92      0.92       169\n",
      "           0       0.87      0.84      0.85        31\n",
      "           1       0.90      0.89      0.90       139\n",
      "\n",
      "    accuracy                           0.90       339\n",
      "   macro avg       0.89      0.88      0.89       339\n",
      "weighted avg       0.90      0.90      0.90       339\n",
      "\n",
      "\n",
      "\n",
      "n = 500               precision    recall  f1-score   support\n",
      "\n",
      "          -1       0.91      0.92      0.92       169\n",
      "           0       0.87      0.84      0.85        31\n",
      "           1       0.90      0.89      0.90       139\n",
      "\n",
      "    accuracy                           0.90       339\n",
      "   macro avg       0.89      0.88      0.89       339\n",
      "weighted avg       0.90      0.90      0.90       339\n",
      "\n",
      "\n",
      "\n",
      "n = 800               precision    recall  f1-score   support\n",
      "\n",
      "          -1       0.91      0.92      0.91       169\n",
      "           0       0.87      0.84      0.85        31\n",
      "           1       0.89      0.89      0.89       139\n",
      "\n",
      "    accuracy                           0.90       339\n",
      "   macro avg       0.89      0.88      0.89       339\n",
      "weighted avg       0.90      0.90      0.90       339\n",
      "\n",
      "\n",
      "\n",
      "n = 1000               precision    recall  f1-score   support\n",
      "\n",
      "          -1       0.91      0.92      0.91       169\n",
      "           0       0.87      0.84      0.85        31\n",
      "           1       0.89      0.89      0.89       139\n",
      "\n",
      "    accuracy                           0.90       339\n",
      "   macro avg       0.89      0.88      0.89       339\n",
      "weighted avg       0.90      0.90      0.90       339\n",
      "\n"
     ]
    }
   ],
   "source": [
    "acc_rf = list()\n",
    "for n in [1, 50, 100, 200, 400, 500, 800, 1000]:\n",
    "    rf_for = RandomForestClassifier(n_estimators = n)\n",
    "    rf_for = rf.fit(xtrain, ytrain)\n",
    "    ypredict_rf = rf.predict(xtest)\n",
    "    rf_cr = classification_report(ytest, ypredict_rf)\n",
    "    \n",
    "    print(\"\\n\")\n",
    "    print(\"n =\",n, rf_cr)"
   ]
  },
  {
   "cell_type": "code",
   "execution_count": 43,
   "id": "26754301-f665-4d53-aac6-91d1e398368e",
   "metadata": {},
   "outputs": [
    {
     "name": "stdout",
     "output_type": "stream",
     "text": [
      "              precision    recall  f1-score   support\n",
      "\n",
      "          -1       0.91      0.92      0.91       169\n",
      "           0       0.86      0.81      0.83        31\n",
      "           1       0.89      0.89      0.89       139\n",
      "\n",
      "    accuracy                           0.90       339\n",
      "   macro avg       0.89      0.87      0.88       339\n",
      "weighted avg       0.90      0.90      0.90       339\n",
      "\n"
     ]
    }
   ],
   "source": [
    "rf_cr = classification_report(ytest, rf_pred)\n",
    "print(rf_cr)"
   ]
  },
  {
   "cell_type": "code",
   "execution_count": 14,
   "id": "3f351415-d838-45f3-94ab-1da88996416e",
   "metadata": {},
   "outputs": [
    {
     "data": {
      "text/plain": [
       "<AxesSubplot:>"
      ]
     },
     "execution_count": 14,
     "metadata": {},
     "output_type": "execute_result"
    },
    {
     "data": {
      "image/png": "[encoded data removed]",
      "text/plain": [
       "<Figure size 432x288 with 2 Axes>"
      ]
     },
     "metadata": {
      "needs_background": "light"
     },
     "output_type": "display_data"
    }
   ],
   "source": [
    "rf_cm = confusion_matrix(ytest, rf_pred)\n",
    "sns.heatmap(rf_cm, annot = True)"
   ]
  },
  {
   "cell_type": "code",
   "execution_count": null,
   "id": "c41b112d-2232-4736-a2b3-6237171a02de",
   "metadata": {},
   "outputs": [],
   "source": []
  },
  {
   "cell_type": "markdown",
   "id": "f2d6429d-a5fb-48cd-95ff-866340e7ee51",
   "metadata": {
    "jp-MarkdownHeadingCollapsed": true,
    "tags": []
   },
   "source": [
    "### Basic MLP"
   ]
  },
  {
   "cell_type": "code",
   "execution_count": 20,
   "id": "c94fba35-c7f0-48e0-bcf2-55b210b2f29d",
   "metadata": {},
   "outputs": [],
   "source": [
    "# get_dummies -> creates a new columns per class (one-hot encoding)\n",
    "# to_categorical -> only one column (not one-hot encoding)\n",
    "xtrain_categorical = pd.get_dummies(xtrain)\n",
    "xtest_categorical = pd.get_dummies(xtest)\n",
    "ytrain_categorical = pd.get_dummies(ytrain)\n",
    "ytest_categorical = pd.get_dummies(ytest)"
   ]
  },
  {
   "cell_type": "code",
   "execution_count": 24,
   "id": "e43e2474-27a1-4a19-bce0-17ec1c6dab04",
   "metadata": {},
   "outputs": [
    {
     "name": "stdout",
     "output_type": "stream",
     "text": [
      "Train (Features One-Hot Encoded)\n"
     ]
    },
    {
     "data": {
      "text/html": [
       "<div>\n",
       "<style scoped>\n",
       "    .dataframe tbody tr th:only-of-type {\n",
       "        vertical-align: middle;\n",
       "    }\n",
       "\n",
       "    .dataframe tbody tr th {\n",
       "        vertical-align: top;\n",
       "    }\n",
       "\n",
       "    .dataframe thead th {\n",
       "        text-align: right;\n",
       "    }\n",
       "</style>\n",
       "<table border=\"1\" class=\"dataframe\">\n",
       "  <thead>\n",
       "    <tr style=\"text-align: right;\">\n",
       "      <th></th>\n",
       "      <th>SFH_-1</th>\n",
       "      <th>SFH_0</th>\n",
       "      <th>SFH_1</th>\n",
       "      <th>popUpWidnow_-1</th>\n",
       "      <th>popUpWidnow_0</th>\n",
       "      <th>popUpWidnow_1</th>\n",
       "      <th>SSLfinal_State_-1</th>\n",
       "      <th>SSLfinal_State_0</th>\n",
       "      <th>SSLfinal_State_1</th>\n",
       "      <th>Request_URL_-1</th>\n",
       "      <th>...</th>\n",
       "      <th>web_traffic_-1</th>\n",
       "      <th>web_traffic_0</th>\n",
       "      <th>web_traffic_1</th>\n",
       "      <th>URL_Length_-1</th>\n",
       "      <th>URL_Length_0</th>\n",
       "      <th>URL_Length_1</th>\n",
       "      <th>age_of_domain_-1</th>\n",
       "      <th>age_of_domain_1</th>\n",
       "      <th>having_IP_Address_0</th>\n",
       "      <th>having_IP_Address_1</th>\n",
       "    </tr>\n",
       "  </thead>\n",
       "  <tbody>\n",
       "    <tr>\n",
       "      <th>866</th>\n",
       "      <td>1</td>\n",
       "      <td>0</td>\n",
       "      <td>0</td>\n",
       "      <td>1</td>\n",
       "      <td>0</td>\n",
       "      <td>0</td>\n",
       "      <td>1</td>\n",
       "      <td>0</td>\n",
       "      <td>0</td>\n",
       "      <td>1</td>\n",
       "      <td>...</td>\n",
       "      <td>0</td>\n",
       "      <td>0</td>\n",
       "      <td>1</td>\n",
       "      <td>0</td>\n",
       "      <td>1</td>\n",
       "      <td>0</td>\n",
       "      <td>1</td>\n",
       "      <td>0</td>\n",
       "      <td>1</td>\n",
       "      <td>0</td>\n",
       "    </tr>\n",
       "    <tr>\n",
       "      <th>976</th>\n",
       "      <td>0</td>\n",
       "      <td>1</td>\n",
       "      <td>0</td>\n",
       "      <td>1</td>\n",
       "      <td>0</td>\n",
       "      <td>0</td>\n",
       "      <td>1</td>\n",
       "      <td>0</td>\n",
       "      <td>0</td>\n",
       "      <td>0</td>\n",
       "      <td>...</td>\n",
       "      <td>1</td>\n",
       "      <td>0</td>\n",
       "      <td>0</td>\n",
       "      <td>1</td>\n",
       "      <td>0</td>\n",
       "      <td>0</td>\n",
       "      <td>0</td>\n",
       "      <td>1</td>\n",
       "      <td>1</td>\n",
       "      <td>0</td>\n",
       "    </tr>\n",
       "    <tr>\n",
       "      <th>738</th>\n",
       "      <td>0</td>\n",
       "      <td>0</td>\n",
       "      <td>1</td>\n",
       "      <td>0</td>\n",
       "      <td>0</td>\n",
       "      <td>1</td>\n",
       "      <td>1</td>\n",
       "      <td>0</td>\n",
       "      <td>0</td>\n",
       "      <td>0</td>\n",
       "      <td>...</td>\n",
       "      <td>1</td>\n",
       "      <td>0</td>\n",
       "      <td>0</td>\n",
       "      <td>0</td>\n",
       "      <td>0</td>\n",
       "      <td>1</td>\n",
       "      <td>0</td>\n",
       "      <td>1</td>\n",
       "      <td>1</td>\n",
       "      <td>0</td>\n",
       "    </tr>\n",
       "    <tr>\n",
       "      <th>1235</th>\n",
       "      <td>0</td>\n",
       "      <td>0</td>\n",
       "      <td>1</td>\n",
       "      <td>0</td>\n",
       "      <td>1</td>\n",
       "      <td>0</td>\n",
       "      <td>0</td>\n",
       "      <td>0</td>\n",
       "      <td>1</td>\n",
       "      <td>1</td>\n",
       "      <td>...</td>\n",
       "      <td>0</td>\n",
       "      <td>1</td>\n",
       "      <td>0</td>\n",
       "      <td>0</td>\n",
       "      <td>0</td>\n",
       "      <td>1</td>\n",
       "      <td>1</td>\n",
       "      <td>0</td>\n",
       "      <td>1</td>\n",
       "      <td>0</td>\n",
       "    </tr>\n",
       "    <tr>\n",
       "      <th>246</th>\n",
       "      <td>0</td>\n",
       "      <td>1</td>\n",
       "      <td>0</td>\n",
       "      <td>1</td>\n",
       "      <td>0</td>\n",
       "      <td>0</td>\n",
       "      <td>1</td>\n",
       "      <td>0</td>\n",
       "      <td>0</td>\n",
       "      <td>0</td>\n",
       "      <td>...</td>\n",
       "      <td>1</td>\n",
       "      <td>0</td>\n",
       "      <td>0</td>\n",
       "      <td>1</td>\n",
       "      <td>0</td>\n",
       "      <td>0</td>\n",
       "      <td>0</td>\n",
       "      <td>1</td>\n",
       "      <td>1</td>\n",
       "      <td>0</td>\n",
       "    </tr>\n",
       "    <tr>\n",
       "      <th>...</th>\n",
       "      <td>...</td>\n",
       "      <td>...</td>\n",
       "      <td>...</td>\n",
       "      <td>...</td>\n",
       "      <td>...</td>\n",
       "      <td>...</td>\n",
       "      <td>...</td>\n",
       "      <td>...</td>\n",
       "      <td>...</td>\n",
       "      <td>...</td>\n",
       "      <td>...</td>\n",
       "      <td>...</td>\n",
       "      <td>...</td>\n",
       "      <td>...</td>\n",
       "      <td>...</td>\n",
       "      <td>...</td>\n",
       "      <td>...</td>\n",
       "      <td>...</td>\n",
       "      <td>...</td>\n",
       "      <td>...</td>\n",
       "      <td>...</td>\n",
       "    </tr>\n",
       "    <tr>\n",
       "      <th>898</th>\n",
       "      <td>0</td>\n",
       "      <td>0</td>\n",
       "      <td>1</td>\n",
       "      <td>0</td>\n",
       "      <td>0</td>\n",
       "      <td>1</td>\n",
       "      <td>0</td>\n",
       "      <td>0</td>\n",
       "      <td>1</td>\n",
       "      <td>1</td>\n",
       "      <td>...</td>\n",
       "      <td>0</td>\n",
       "      <td>1</td>\n",
       "      <td>0</td>\n",
       "      <td>0</td>\n",
       "      <td>0</td>\n",
       "      <td>1</td>\n",
       "      <td>0</td>\n",
       "      <td>1</td>\n",
       "      <td>1</td>\n",
       "      <td>0</td>\n",
       "    </tr>\n",
       "    <tr>\n",
       "      <th>78</th>\n",
       "      <td>0</td>\n",
       "      <td>0</td>\n",
       "      <td>1</td>\n",
       "      <td>0</td>\n",
       "      <td>1</td>\n",
       "      <td>0</td>\n",
       "      <td>0</td>\n",
       "      <td>0</td>\n",
       "      <td>1</td>\n",
       "      <td>0</td>\n",
       "      <td>...</td>\n",
       "      <td>0</td>\n",
       "      <td>1</td>\n",
       "      <td>0</td>\n",
       "      <td>1</td>\n",
       "      <td>0</td>\n",
       "      <td>0</td>\n",
       "      <td>0</td>\n",
       "      <td>1</td>\n",
       "      <td>0</td>\n",
       "      <td>1</td>\n",
       "    </tr>\n",
       "    <tr>\n",
       "      <th>404</th>\n",
       "      <td>1</td>\n",
       "      <td>0</td>\n",
       "      <td>0</td>\n",
       "      <td>1</td>\n",
       "      <td>0</td>\n",
       "      <td>0</td>\n",
       "      <td>1</td>\n",
       "      <td>0</td>\n",
       "      <td>0</td>\n",
       "      <td>1</td>\n",
       "      <td>...</td>\n",
       "      <td>0</td>\n",
       "      <td>0</td>\n",
       "      <td>1</td>\n",
       "      <td>0</td>\n",
       "      <td>1</td>\n",
       "      <td>0</td>\n",
       "      <td>0</td>\n",
       "      <td>1</td>\n",
       "      <td>1</td>\n",
       "      <td>0</td>\n",
       "    </tr>\n",
       "    <tr>\n",
       "      <th>600</th>\n",
       "      <td>0</td>\n",
       "      <td>0</td>\n",
       "      <td>1</td>\n",
       "      <td>0</td>\n",
       "      <td>1</td>\n",
       "      <td>0</td>\n",
       "      <td>0</td>\n",
       "      <td>0</td>\n",
       "      <td>1</td>\n",
       "      <td>0</td>\n",
       "      <td>...</td>\n",
       "      <td>0</td>\n",
       "      <td>0</td>\n",
       "      <td>1</td>\n",
       "      <td>1</td>\n",
       "      <td>0</td>\n",
       "      <td>0</td>\n",
       "      <td>0</td>\n",
       "      <td>1</td>\n",
       "      <td>1</td>\n",
       "      <td>0</td>\n",
       "    </tr>\n",
       "    <tr>\n",
       "      <th>1060</th>\n",
       "      <td>1</td>\n",
       "      <td>0</td>\n",
       "      <td>0</td>\n",
       "      <td>1</td>\n",
       "      <td>0</td>\n",
       "      <td>0</td>\n",
       "      <td>0</td>\n",
       "      <td>0</td>\n",
       "      <td>1</td>\n",
       "      <td>1</td>\n",
       "      <td>...</td>\n",
       "      <td>0</td>\n",
       "      <td>1</td>\n",
       "      <td>0</td>\n",
       "      <td>0</td>\n",
       "      <td>1</td>\n",
       "      <td>0</td>\n",
       "      <td>1</td>\n",
       "      <td>0</td>\n",
       "      <td>1</td>\n",
       "      <td>0</td>\n",
       "    </tr>\n",
       "  </tbody>\n",
       "</table>\n",
       "<p>1014 rows × 25 columns</p>\n",
       "</div>"
      ],
      "text/plain": [
       "      SFH_-1  SFH_0  SFH_1  popUpWidnow_-1  popUpWidnow_0  popUpWidnow_1  \\\n",
       "866        1      0      0               1              0              0   \n",
       "976        0      1      0               1              0              0   \n",
       "738        0      0      1               0              0              1   \n",
       "1235       0      0      1               0              1              0   \n",
       "246        0      1      0               1              0              0   \n",
       "...      ...    ...    ...             ...            ...            ...   \n",
       "898        0      0      1               0              0              1   \n",
       "78         0      0      1               0              1              0   \n",
       "404        1      0      0               1              0              0   \n",
       "600        0      0      1               0              1              0   \n",
       "1060       1      0      0               1              0              0   \n",
       "\n",
       "      SSLfinal_State_-1  SSLfinal_State_0  SSLfinal_State_1  Request_URL_-1  \\\n",
       "866                   1                 0                 0               1   \n",
       "976                   1                 0                 0               0   \n",
       "738                   1                 0                 0               0   \n",
       "1235                  0                 0                 1               1   \n",
       "246                   1                 0                 0               0   \n",
       "...                 ...               ...               ...             ...   \n",
       "898                   0                 0                 1               1   \n",
       "78                    0                 0                 1               0   \n",
       "404                   1                 0                 0               1   \n",
       "600                   0                 0                 1               0   \n",
       "1060                  0                 0                 1               1   \n",
       "\n",
       "      ...  web_traffic_-1  web_traffic_0  web_traffic_1  URL_Length_-1  \\\n",
       "866   ...               0              0              1              0   \n",
       "976   ...               1              0              0              1   \n",
       "738   ...               1              0              0              0   \n",
       "1235  ...               0              1              0              0   \n",
       "246   ...               1              0              0              1   \n",
       "...   ...             ...            ...            ...            ...   \n",
       "898   ...               0              1              0              0   \n",
       "78    ...               0              1              0              1   \n",
       "404   ...               0              0              1              0   \n",
       "600   ...               0              0              1              1   \n",
       "1060  ...               0              1              0              0   \n",
       "\n",
       "      URL_Length_0  URL_Length_1  age_of_domain_-1  age_of_domain_1  \\\n",
       "866              1             0                 1                0   \n",
       "976              0             0                 0                1   \n",
       "738              0             1                 0                1   \n",
       "1235             0             1                 1                0   \n",
       "246              0             0                 0                1   \n",
       "...            ...           ...               ...              ...   \n",
       "898              0             1                 0                1   \n",
       "78               0             0                 0                1   \n",
       "404              1             0                 0                1   \n",
       "600              0             0                 0                1   \n",
       "1060             1             0                 1                0   \n",
       "\n",
       "      having_IP_Address_0  having_IP_Address_1  \n",
       "866                     1                    0  \n",
       "976                     1                    0  \n",
       "738                     1                    0  \n",
       "1235                    1                    0  \n",
       "246                     1                    0  \n",
       "...                   ...                  ...  \n",
       "898                     1                    0  \n",
       "78                      0                    1  \n",
       "404                     1                    0  \n",
       "600                     1                    0  \n",
       "1060                    1                    0  \n",
       "\n",
       "[1014 rows x 25 columns]"
      ]
     },
     "execution_count": 24,
     "metadata": {},
     "output_type": "execute_result"
    }
   ],
   "source": [
    "print(\"Train (Features One-Hot Encoded)\")\n",
    "xtrain_categorical"
   ]
  },
  {
   "cell_type": "code",
   "execution_count": 27,
   "id": "48d3598e-d360-4e23-96ec-1eba96880047",
   "metadata": {},
   "outputs": [
    {
     "name": "stdout",
     "output_type": "stream",
     "text": [
      "Train (Target Column One-Hot Encoded)\n"
     ]
    },
    {
     "data": {
      "text/html": [
       "<div>\n",
       "<style scoped>\n",
       "    .dataframe tbody tr th:only-of-type {\n",
       "        vertical-align: middle;\n",
       "    }\n",
       "\n",
       "    .dataframe tbody tr th {\n",
       "        vertical-align: top;\n",
       "    }\n",
       "\n",
       "    .dataframe thead th {\n",
       "        text-align: right;\n",
       "    }\n",
       "</style>\n",
       "<table border=\"1\" class=\"dataframe\">\n",
       "  <thead>\n",
       "    <tr style=\"text-align: right;\">\n",
       "      <th></th>\n",
       "      <th>-1</th>\n",
       "      <th>0</th>\n",
       "      <th>1</th>\n",
       "    </tr>\n",
       "  </thead>\n",
       "  <tbody>\n",
       "    <tr>\n",
       "      <th>866</th>\n",
       "      <td>0</td>\n",
       "      <td>0</td>\n",
       "      <td>1</td>\n",
       "    </tr>\n",
       "    <tr>\n",
       "      <th>976</th>\n",
       "      <td>0</td>\n",
       "      <td>0</td>\n",
       "      <td>1</td>\n",
       "    </tr>\n",
       "    <tr>\n",
       "      <th>738</th>\n",
       "      <td>1</td>\n",
       "      <td>0</td>\n",
       "      <td>0</td>\n",
       "    </tr>\n",
       "    <tr>\n",
       "      <th>1235</th>\n",
       "      <td>1</td>\n",
       "      <td>0</td>\n",
       "      <td>0</td>\n",
       "    </tr>\n",
       "    <tr>\n",
       "      <th>246</th>\n",
       "      <td>0</td>\n",
       "      <td>0</td>\n",
       "      <td>1</td>\n",
       "    </tr>\n",
       "    <tr>\n",
       "      <th>...</th>\n",
       "      <td>...</td>\n",
       "      <td>...</td>\n",
       "      <td>...</td>\n",
       "    </tr>\n",
       "    <tr>\n",
       "      <th>898</th>\n",
       "      <td>1</td>\n",
       "      <td>0</td>\n",
       "      <td>0</td>\n",
       "    </tr>\n",
       "    <tr>\n",
       "      <th>78</th>\n",
       "      <td>1</td>\n",
       "      <td>0</td>\n",
       "      <td>0</td>\n",
       "    </tr>\n",
       "    <tr>\n",
       "      <th>404</th>\n",
       "      <td>0</td>\n",
       "      <td>0</td>\n",
       "      <td>1</td>\n",
       "    </tr>\n",
       "    <tr>\n",
       "      <th>600</th>\n",
       "      <td>1</td>\n",
       "      <td>0</td>\n",
       "      <td>0</td>\n",
       "    </tr>\n",
       "    <tr>\n",
       "      <th>1060</th>\n",
       "      <td>0</td>\n",
       "      <td>0</td>\n",
       "      <td>1</td>\n",
       "    </tr>\n",
       "  </tbody>\n",
       "</table>\n",
       "<p>1014 rows × 3 columns</p>\n",
       "</div>"
      ],
      "text/plain": [
       "      -1  0  1\n",
       "866    0  0  1\n",
       "976    0  0  1\n",
       "738    1  0  0\n",
       "1235   1  0  0\n",
       "246    0  0  1\n",
       "...   .. .. ..\n",
       "898    1  0  0\n",
       "78     1  0  0\n",
       "404    0  0  1\n",
       "600    1  0  0\n",
       "1060   0  0  1\n",
       "\n",
       "[1014 rows x 3 columns]"
      ]
     },
     "execution_count": 27,
     "metadata": {},
     "output_type": "execute_result"
    }
   ],
   "source": [
    "print(\"Train (Target Column One-Hot Encoded)\")\n",
    "ytrain_categorical"
   ]
  },
  {
   "cell_type": "code",
   "execution_count": 66,
   "id": "6416f849-e4ab-4584-a3bf-9306eff78351",
   "metadata": {},
   "outputs": [
    {
     "name": "stdout",
     "output_type": "stream",
     "text": [
      "Model: \"sequential_12\"\n",
      "_________________________________________________________________\n",
      " Layer (type)                Output Shape              Param #   \n",
      "=================================================================\n",
      " dense_42 (Dense)            (None, 64)                1664      \n",
      "                                                                 \n",
      " dropout_30 (Dropout)        (None, 64)                0         \n",
      "                                                                 \n",
      " dense_43 (Dense)            (None, 64)                4160      \n",
      "                                                                 \n",
      " dropout_31 (Dropout)        (None, 64)                0         \n",
      "                                                                 \n",
      " dense_44 (Dense)            (None, 3)                 195       \n",
      "                                                                 \n",
      "=================================================================\n",
      "Total params: 6,019\n",
      "Trainable params: 6,019\n",
      "Non-trainable params: 0\n",
      "_________________________________________________________________\n"
     ]
    }
   ],
   "source": [
    "mlp_model_1 = Sequential()\n",
    "\n",
    "mlp_model_1.add(Dense(64, activation = 'relu', input_dim = xtrain_categorical.shape[1]))\n",
    "mlp_model_1.add(Dropout(0.2))\n",
    "mlp_model_1.add(Dense(64, activation = 'relu'))\n",
    "mlp_model_1.add(Dropout(0.2))\n",
    "mlp_model_1.add(Dense(3, activation = 'softmax')) # change softmax\n",
    "\n",
    "mlp_model_1.summary()"
   ]
  },
  {
   "cell_type": "code",
   "execution_count": 67,
   "id": "9f6fd7cf-6706-48d4-a5e1-e8e549dae572",
   "metadata": {},
   "outputs": [],
   "source": [
    "batch_size_1 = 32\n",
    "opt_1 = keras.optimizers.RMSprop(lr = 0.0005) \n",
    "\n",
    "mlp_model_1.compile(loss = 'categorical_crossentropy', optimizer = opt_1, metrics = ['accuracy'])"
   ]
  },
  {
   "cell_type": "code",
   "execution_count": 68,
   "id": "be30873d-2191-4258-a6d1-3b74bcbded4e",
   "metadata": {},
   "outputs": [
    {
     "name": "stdout",
     "output_type": "stream",
     "text": [
      "Epoch 1/20\n",
      "32/32 [==============================] - 2s 14ms/step - loss: 0.8986 - accuracy: 0.5740 - val_loss: 0.7452 - val_accuracy: 0.7109\n",
      "Epoch 2/20\n",
      "32/32 [==============================] - 0s 5ms/step - loss: 0.7177 - accuracy: 0.7318 - val_loss: 0.6030 - val_accuracy: 0.8319\n",
      "Epoch 3/20\n",
      "32/32 [==============================] - 0s 5ms/step - loss: 0.6165 - accuracy: 0.7998 - val_loss: 0.5052 - val_accuracy: 0.8466\n",
      "Epoch 4/20\n",
      "32/32 [==============================] - 0s 6ms/step - loss: 0.5493 - accuracy: 0.8047 - val_loss: 0.4448 - val_accuracy: 0.8555\n",
      "Epoch 5/20\n",
      "32/32 [==============================] - 0s 6ms/step - loss: 0.5125 - accuracy: 0.8176 - val_loss: 0.4197 - val_accuracy: 0.8643\n",
      "Epoch 6/20\n",
      "32/32 [==============================] - 0s 6ms/step - loss: 0.4786 - accuracy: 0.8215 - val_loss: 0.3953 - val_accuracy: 0.8643\n",
      "Epoch 7/20\n",
      "32/32 [==============================] - 0s 10ms/step - loss: 0.4460 - accuracy: 0.8373 - val_loss: 0.3804 - val_accuracy: 0.8673\n",
      "Epoch 8/20\n",
      "32/32 [==============================] - 0s 6ms/step - loss: 0.4376 - accuracy: 0.8343 - val_loss: 0.3666 - val_accuracy: 0.8702\n",
      "Epoch 9/20\n",
      "32/32 [==============================] - 0s 10ms/step - loss: 0.4137 - accuracy: 0.8373 - val_loss: 0.3618 - val_accuracy: 0.8761\n",
      "Epoch 10/20\n",
      "32/32 [==============================] - 0s 11ms/step - loss: 0.4036 - accuracy: 0.8501 - val_loss: 0.3520 - val_accuracy: 0.8791\n",
      "Epoch 11/20\n",
      "32/32 [==============================] - 0s 9ms/step - loss: 0.3925 - accuracy: 0.8432 - val_loss: 0.3457 - val_accuracy: 0.8850\n",
      "Epoch 12/20\n",
      "32/32 [==============================] - 0s 7ms/step - loss: 0.3825 - accuracy: 0.8491 - val_loss: 0.3371 - val_accuracy: 0.8820\n",
      "Epoch 13/20\n",
      "32/32 [==============================] - 0s 6ms/step - loss: 0.3838 - accuracy: 0.8422 - val_loss: 0.3328 - val_accuracy: 0.8820\n",
      "Epoch 14/20\n",
      "32/32 [==============================] - 0s 9ms/step - loss: 0.3773 - accuracy: 0.8600 - val_loss: 0.3329 - val_accuracy: 0.8820\n",
      "Epoch 15/20\n",
      "32/32 [==============================] - 0s 8ms/step - loss: 0.3665 - accuracy: 0.8590 - val_loss: 0.3229 - val_accuracy: 0.8909\n",
      "Epoch 16/20\n",
      "32/32 [==============================] - 0s 5ms/step - loss: 0.3583 - accuracy: 0.8521 - val_loss: 0.3263 - val_accuracy: 0.8879\n",
      "Epoch 17/20\n",
      "32/32 [==============================] - 0s 5ms/step - loss: 0.3429 - accuracy: 0.8609 - val_loss: 0.3256 - val_accuracy: 0.8850\n",
      "Epoch 18/20\n",
      "32/32 [==============================] - 0s 5ms/step - loss: 0.3360 - accuracy: 0.8619 - val_loss: 0.3159 - val_accuracy: 0.8879\n",
      "Epoch 19/20\n",
      "32/32 [==============================] - 0s 5ms/step - loss: 0.3346 - accuracy: 0.8728 - val_loss: 0.3087 - val_accuracy: 0.8909\n",
      "Epoch 20/20\n",
      "32/32 [==============================] - 0s 5ms/step - loss: 0.3341 - accuracy: 0.8609 - val_loss: 0.3140 - val_accuracy: 0.8879\n"
     ]
    },
    {
     "data": {
      "text/plain": [
       "<keras.callbacks.History at 0x2824cd7dd90>"
      ]
     },
     "execution_count": 68,
     "metadata": {},
     "output_type": "execute_result"
    }
   ],
   "source": [
    "mlp_model_1.fit(\n",
    "    xtrain_categorical, ytrain_categorical,\n",
    "    batch_size = batch_size_1,\n",
    "    epochs = 20,\n",
    "    validation_data = (xtest_categorical, ytest_categorical),\n",
    "    shuffle = True)"
   ]
  },
  {
   "cell_type": "code",
   "execution_count": 69,
   "id": "3dbee038-737d-4e90-a40c-96357209e1d0",
   "metadata": {},
   "outputs": [
    {
     "name": "stdout",
     "output_type": "stream",
     "text": [
      "\n",
      "Accuracy: 88.8%\n"
     ]
    }
   ],
   "source": [
    "_, acc1 = mlp_model_1.evaluate(xtest_categorical, ytest_categorical, batch_size = batch_size_1, verbose = 0)\n",
    "\n",
    "print(\"\")\n",
    "print(\"Accuracy: %.1f%%\" % (100.0 * acc1))"
   ]
  },
  {
   "cell_type": "markdown",
   "id": "48728f11-423c-4f0a-8b70-9dce379139d1",
   "metadata": {
    "jp-MarkdownHeadingCollapsed": true,
    "tags": []
   },
   "source": [
    "### Basic MLP Variation 1\n",
    "    - Using Sigmoid"
   ]
  },
  {
   "cell_type": "code",
   "execution_count": 70,
   "id": "7fb78f32-5841-4f7d-a9a7-eb6a238c29dc",
   "metadata": {},
   "outputs": [
    {
     "name": "stdout",
     "output_type": "stream",
     "text": [
      "Model: \"sequential_13\"\n",
      "_________________________________________________________________\n",
      " Layer (type)                Output Shape              Param #   \n",
      "=================================================================\n",
      " dense_45 (Dense)            (None, 64)                1664      \n",
      "                                                                 \n",
      " dropout_32 (Dropout)        (None, 64)                0         \n",
      "                                                                 \n",
      " dense_46 (Dense)            (None, 64)                4160      \n",
      "                                                                 \n",
      " dropout_33 (Dropout)        (None, 64)                0         \n",
      "                                                                 \n",
      " dense_47 (Dense)            (None, 3)                 195       \n",
      "                                                                 \n",
      "=================================================================\n",
      "Total params: 6,019\n",
      "Trainable params: 6,019\n",
      "Non-trainable params: 0\n",
      "_________________________________________________________________\n"
     ]
    }
   ],
   "source": [
    "mlp_model_5 = Sequential()\n",
    "\n",
    "mlp_model_5.add(Dense(64, activation = 'sigmoid', input_dim = xtrain_categorical.shape[1]))\n",
    "mlp_model_5.add(Dropout(0.2))\n",
    "mlp_model_5.add(Dense(64, activation = 'sigmoid'))\n",
    "mlp_model_5.add(Dropout(0.2))\n",
    "mlp_model_5.add(Dense(3, activation = 'softmax')) # change softmax\n",
    "\n",
    "mlp_model_5.summary()"
   ]
  },
  {
   "cell_type": "code",
   "execution_count": 71,
   "id": "b03a773a-c178-468f-9fb0-123d0a0d5624",
   "metadata": {},
   "outputs": [],
   "source": [
    "batch_size_5 = 32\n",
    "opt_5 = keras.optimizers.RMSprop(lr = 0.0005) \n",
    "\n",
    "mlp_model_5.compile(loss = 'categorical_crossentropy', optimizer = opt_5, metrics = ['accuracy'])"
   ]
  },
  {
   "cell_type": "code",
   "execution_count": 72,
   "id": "41027592-55b5-41b8-8093-462aa7dc9f75",
   "metadata": {},
   "outputs": [
    {
     "name": "stdout",
     "output_type": "stream",
     "text": [
      "Epoch 1/20\n",
      "32/32 [==============================] - 2s 20ms/step - loss: 0.9675 - accuracy: 0.4852 - val_loss: 0.8790 - val_accuracy: 0.4867\n",
      "Epoch 2/20\n",
      "32/32 [==============================] - 0s 6ms/step - loss: 0.9312 - accuracy: 0.5138 - val_loss: 0.8532 - val_accuracy: 0.4867\n",
      "Epoch 3/20\n",
      "32/32 [==============================] - 0s 7ms/step - loss: 0.8913 - accuracy: 0.5602 - val_loss: 0.8374 - val_accuracy: 0.4867\n",
      "Epoch 4/20\n",
      "32/32 [==============================] - 0s 7ms/step - loss: 0.8854 - accuracy: 0.5592 - val_loss: 0.8139 - val_accuracy: 0.4867\n",
      "Epoch 5/20\n",
      "32/32 [==============================] - 0s 6ms/step - loss: 0.8655 - accuracy: 0.5966 - val_loss: 0.7939 - val_accuracy: 0.5398\n",
      "Epoch 6/20\n",
      "32/32 [==============================] - 0s 10ms/step - loss: 0.8373 - accuracy: 0.6302 - val_loss: 0.7574 - val_accuracy: 0.7670\n",
      "Epoch 7/20\n",
      "32/32 [==============================] - 0s 10ms/step - loss: 0.8085 - accuracy: 0.6765 - val_loss: 0.7291 - val_accuracy: 0.7729\n",
      "Epoch 8/20\n",
      "32/32 [==============================] - 0s 10ms/step - loss: 0.7804 - accuracy: 0.6903 - val_loss: 0.6919 - val_accuracy: 0.8142\n",
      "Epoch 9/20\n",
      "32/32 [==============================] - 0s 6ms/step - loss: 0.7341 - accuracy: 0.7416 - val_loss: 0.6599 - val_accuracy: 0.8171\n",
      "Epoch 10/20\n",
      "32/32 [==============================] - 0s 6ms/step - loss: 0.7029 - accuracy: 0.7505 - val_loss: 0.6202 - val_accuracy: 0.8407\n",
      "Epoch 11/20\n",
      "32/32 [==============================] - 0s 7ms/step - loss: 0.6804 - accuracy: 0.7574 - val_loss: 0.5858 - val_accuracy: 0.8437\n",
      "Epoch 12/20\n",
      "32/32 [==============================] - 0s 7ms/step - loss: 0.6485 - accuracy: 0.7692 - val_loss: 0.5555 - val_accuracy: 0.8407\n",
      "Epoch 13/20\n",
      "32/32 [==============================] - 0s 10ms/step - loss: 0.6296 - accuracy: 0.7919 - val_loss: 0.5282 - val_accuracy: 0.8378\n",
      "Epoch 14/20\n",
      "32/32 [==============================] - 0s 9ms/step - loss: 0.5963 - accuracy: 0.7998 - val_loss: 0.5168 - val_accuracy: 0.8496\n",
      "Epoch 15/20\n",
      "32/32 [==============================] - 0s 9ms/step - loss: 0.5718 - accuracy: 0.8116 - val_loss: 0.4904 - val_accuracy: 0.8348\n",
      "Epoch 16/20\n",
      "32/32 [==============================] - 0s 9ms/step - loss: 0.5464 - accuracy: 0.8087 - val_loss: 0.4854 - val_accuracy: 0.8555\n",
      "Epoch 17/20\n",
      "32/32 [==============================] - 0s 5ms/step - loss: 0.5346 - accuracy: 0.8284 - val_loss: 0.4617 - val_accuracy: 0.8378\n",
      "Epoch 18/20\n",
      "32/32 [==============================] - 0s 5ms/step - loss: 0.5282 - accuracy: 0.8314 - val_loss: 0.4580 - val_accuracy: 0.8525\n",
      "Epoch 19/20\n",
      "32/32 [==============================] - 0s 5ms/step - loss: 0.5283 - accuracy: 0.8176 - val_loss: 0.4509 - val_accuracy: 0.8496\n",
      "Epoch 20/20\n",
      "32/32 [==============================] - 0s 5ms/step - loss: 0.5193 - accuracy: 0.8176 - val_loss: 0.4422 - val_accuracy: 0.8496\n"
     ]
    },
    {
     "data": {
      "text/plain": [
       "<keras.callbacks.History at 0x2824d00bf40>"
      ]
     },
     "execution_count": 72,
     "metadata": {},
     "output_type": "execute_result"
    }
   ],
   "source": [
    "mlp_model_5.fit(\n",
    "    xtrain_categorical, ytrain_categorical,\n",
    "    batch_size = batch_size_5,\n",
    "    epochs = 20,\n",
    "    validation_data = (xtest_categorical, ytest_categorical),\n",
    "    shuffle = True)"
   ]
  },
  {
   "cell_type": "code",
   "execution_count": 73,
   "id": "621bd196-ce48-4264-b048-ab077f38af69",
   "metadata": {},
   "outputs": [
    {
     "name": "stdout",
     "output_type": "stream",
     "text": [
      "\n",
      "Accuracy: 85.0%\n"
     ]
    }
   ],
   "source": [
    "_, acc5 = mlp_model_5.evaluate(xtest_categorical, ytest_categorical, batch_size = batch_size_5, verbose = 0)\n",
    "\n",
    "print(\"\")\n",
    "print(\"Accuracy: %.1f%%\" % (100.0 * acc5))"
   ]
  },
  {
   "cell_type": "markdown",
   "id": "fd8f8afc-c34a-42b5-9ece-2d32af0bd78b",
   "metadata": {
    "jp-MarkdownHeadingCollapsed": true,
    "tags": []
   },
   "source": [
    "### MLP Variation\n",
    "    - Using tanh"
   ]
  },
  {
   "cell_type": "code",
   "execution_count": 74,
   "id": "93f86267-405d-4c31-9131-ac82c9778afa",
   "metadata": {},
   "outputs": [
    {
     "name": "stdout",
     "output_type": "stream",
     "text": [
      "Model: \"sequential_14\"\n",
      "_________________________________________________________________\n",
      " Layer (type)                Output Shape              Param #   \n",
      "=================================================================\n",
      " dense_48 (Dense)            (None, 64)                1664      \n",
      "                                                                 \n",
      " dropout_34 (Dropout)        (None, 64)                0         \n",
      "                                                                 \n",
      " dense_49 (Dense)            (None, 64)                4160      \n",
      "                                                                 \n",
      " dropout_35 (Dropout)        (None, 64)                0         \n",
      "                                                                 \n",
      " dense_50 (Dense)            (None, 3)                 195       \n",
      "                                                                 \n",
      "=================================================================\n",
      "Total params: 6,019\n",
      "Trainable params: 6,019\n",
      "Non-trainable params: 0\n",
      "_________________________________________________________________\n"
     ]
    }
   ],
   "source": [
    "mlp_model_6 = Sequential()\n",
    "\n",
    "mlp_model_6.add(Dense(64, activation = 'tanh', input_dim = xtrain_categorical.shape[1]))\n",
    "mlp_model_6.add(Dropout(0.2))\n",
    "mlp_model_6.add(Dense(64, activation = 'tanh'))\n",
    "mlp_model_6.add(Dropout(0.2))\n",
    "mlp_model_6.add(Dense(3, activation = 'softmax'))\n",
    "\n",
    "mlp_model_6.summary()"
   ]
  },
  {
   "cell_type": "code",
   "execution_count": 75,
   "id": "8201bae5-e724-498a-9130-d676ce117355",
   "metadata": {},
   "outputs": [],
   "source": [
    "batch_size_6 = 32\n",
    "opt_6 = keras.optimizers.RMSprop(lr = 0.0005) \n",
    "\n",
    "mlp_model_6.compile(loss = 'categorical_crossentropy', optimizer = opt_6, metrics = ['accuracy'])"
   ]
  },
  {
   "cell_type": "code",
   "execution_count": 76,
   "id": "6f602b70-aff2-4053-a130-1a0e9bdff95a",
   "metadata": {},
   "outputs": [
    {
     "name": "stdout",
     "output_type": "stream",
     "text": [
      "Epoch 1/20\n",
      "32/32 [==============================] - 2s 19ms/step - loss: 0.8590 - accuracy: 0.6124 - val_loss: 0.6350 - val_accuracy: 0.8201\n",
      "Epoch 2/20\n",
      "32/32 [==============================] - 0s 5ms/step - loss: 0.6128 - accuracy: 0.8028 - val_loss: 0.5124 - val_accuracy: 0.8378\n",
      "Epoch 3/20\n",
      "32/32 [==============================] - 0s 6ms/step - loss: 0.5393 - accuracy: 0.8116 - val_loss: 0.4403 - val_accuracy: 0.8525\n",
      "Epoch 4/20\n",
      "32/32 [==============================] - 0s 5ms/step - loss: 0.4919 - accuracy: 0.8215 - val_loss: 0.4084 - val_accuracy: 0.8614\n",
      "Epoch 5/20\n",
      "32/32 [==============================] - 0s 5ms/step - loss: 0.4382 - accuracy: 0.8422 - val_loss: 0.3901 - val_accuracy: 0.8643\n",
      "Epoch 6/20\n",
      "32/32 [==============================] - 0s 5ms/step - loss: 0.4315 - accuracy: 0.8383 - val_loss: 0.3726 - val_accuracy: 0.8643\n",
      "Epoch 7/20\n",
      "32/32 [==============================] - 0s 5ms/step - loss: 0.4175 - accuracy: 0.8491 - val_loss: 0.3688 - val_accuracy: 0.8732\n",
      "Epoch 8/20\n",
      "32/32 [==============================] - 0s 5ms/step - loss: 0.4062 - accuracy: 0.8531 - val_loss: 0.3601 - val_accuracy: 0.8791\n",
      "Epoch 9/20\n",
      "32/32 [==============================] - 0s 5ms/step - loss: 0.3982 - accuracy: 0.8491 - val_loss: 0.3585 - val_accuracy: 0.8820\n",
      "Epoch 10/20\n",
      "32/32 [==============================] - 0s 5ms/step - loss: 0.3963 - accuracy: 0.8550 - val_loss: 0.3554 - val_accuracy: 0.8791\n",
      "Epoch 11/20\n",
      "32/32 [==============================] - 0s 5ms/step - loss: 0.3859 - accuracy: 0.8570 - val_loss: 0.3459 - val_accuracy: 0.8850\n",
      "Epoch 12/20\n",
      "32/32 [==============================] - 0s 5ms/step - loss: 0.3888 - accuracy: 0.8491 - val_loss: 0.3451 - val_accuracy: 0.8820\n",
      "Epoch 13/20\n",
      "32/32 [==============================] - 0s 6ms/step - loss: 0.3748 - accuracy: 0.8521 - val_loss: 0.3485 - val_accuracy: 0.8732\n",
      "Epoch 14/20\n",
      "32/32 [==============================] - 0s 4ms/step - loss: 0.3795 - accuracy: 0.8570 - val_loss: 0.3450 - val_accuracy: 0.8702\n",
      "Epoch 15/20\n",
      "32/32 [==============================] - 0s 4ms/step - loss: 0.3657 - accuracy: 0.8659 - val_loss: 0.3364 - val_accuracy: 0.8791\n",
      "Epoch 16/20\n",
      "32/32 [==============================] - 0s 9ms/step - loss: 0.3733 - accuracy: 0.8609 - val_loss: 0.3387 - val_accuracy: 0.8761\n",
      "Epoch 17/20\n",
      "32/32 [==============================] - 0s 7ms/step - loss: 0.3664 - accuracy: 0.8570 - val_loss: 0.3347 - val_accuracy: 0.8732\n",
      "Epoch 18/20\n",
      "32/32 [==============================] - 0s 5ms/step - loss: 0.3766 - accuracy: 0.8481 - val_loss: 0.3340 - val_accuracy: 0.8732\n",
      "Epoch 19/20\n",
      "32/32 [==============================] - 0s 5ms/step - loss: 0.3682 - accuracy: 0.8609 - val_loss: 0.3291 - val_accuracy: 0.8850\n",
      "Epoch 20/20\n",
      "32/32 [==============================] - 0s 5ms/step - loss: 0.3654 - accuracy: 0.8540 - val_loss: 0.3273 - val_accuracy: 0.8761\n"
     ]
    },
    {
     "data": {
      "text/plain": [
       "<keras.callbacks.History at 0x2824e165190>"
      ]
     },
     "execution_count": 76,
     "metadata": {},
     "output_type": "execute_result"
    }
   ],
   "source": [
    "mlp_model_6.fit(\n",
    "    xtrain_categorical, ytrain_categorical,\n",
    "    batch_size = batch_size_6,\n",
    "    epochs = 20,\n",
    "    validation_data = (xtest_categorical, ytest_categorical),\n",
    "    shuffle = True)"
   ]
  },
  {
   "cell_type": "code",
   "execution_count": 77,
   "id": "1b37b0a3-9818-4ad6-b448-46df2060d4f6",
   "metadata": {},
   "outputs": [
    {
     "name": "stdout",
     "output_type": "stream",
     "text": [
      "\n",
      "Accuracy: 87.6%\n"
     ]
    }
   ],
   "source": [
    "_, acc6 = mlp_model_6.evaluate(xtest_categorical, ytest_categorical, batch_size = batch_size_6, verbose = 0)\n",
    "\n",
    "print(\"\")\n",
    "print(\"Accuracy: %.1f%%\" % (100.0 * acc6))"
   ]
  },
  {
   "cell_type": "markdown",
   "id": "a9e473d9-445c-4c3d-9108-737b6a6c10c4",
   "metadata": {
    "jp-MarkdownHeadingCollapsed": true,
    "tags": []
   },
   "source": [
    "### MLP Variation 2\n",
    "    - Increased Dense Units\n",
    "    - Increased Batch Size to 64"
   ]
  },
  {
   "cell_type": "code",
   "execution_count": 20,
   "id": "69737db3-49f1-40f0-a5fc-4bff96a617e6",
   "metadata": {},
   "outputs": [
    {
     "name": "stdout",
     "output_type": "stream",
     "text": [
      "Model: \"sequential_1\"\n",
      "_________________________________________________________________\n",
      " Layer (type)                Output Shape              Param #   \n",
      "=================================================================\n",
      " dense_3 (Dense)             (None, 100)               2600      \n",
      "                                                                 \n",
      " dropout_2 (Dropout)         (None, 100)               0         \n",
      "                                                                 \n",
      " dense_4 (Dense)             (None, 100)               10100     \n",
      "                                                                 \n",
      " dropout_3 (Dropout)         (None, 100)               0         \n",
      "                                                                 \n",
      " dense_5 (Dense)             (None, 3)                 303       \n",
      "                                                                 \n",
      "=================================================================\n",
      "Total params: 13,003\n",
      "Trainable params: 13,003\n",
      "Non-trainable params: 0\n",
      "_________________________________________________________________\n"
     ]
    }
   ],
   "source": [
    "mlp_model_2 = Sequential()\n",
    "\n",
    "mlp_model_2.add(Dense(100, activation = 'relu', input_dim = xtrain_categorical.shape[1]))\n",
    "mlp_model_2.add(Dropout(0.2))\n",
    "mlp_model_2.add(Dense(100, activation = 'relu'))\n",
    "mlp_model_2.add(Dropout(0.2))\n",
    "mlp_model_2.add(Dense(3, activation = 'softmax')) # change softmax\n",
    "\n",
    "mlp_model_2.summary()"
   ]
  },
  {
   "cell_type": "code",
   "execution_count": 21,
   "id": "06c09ebe-72d2-4c87-ab33-c502a09c5421",
   "metadata": {},
   "outputs": [],
   "source": [
    "batch_size_2 = 50\n",
    "opt_2 = keras.optimizers.RMSprop(lr = 0.0005) \n",
    "\n",
    "mlp_model_2.compile(loss = 'categorical_crossentropy', optimizer = opt_2, metrics = ['accuracy'])"
   ]
  },
  {
   "cell_type": "code",
   "execution_count": 22,
   "id": "fa748e65-15bc-4144-9dd0-a7a5960651f6",
   "metadata": {},
   "outputs": [
    {
     "name": "stdout",
     "output_type": "stream",
     "text": [
      "Epoch 1/20\n",
      "21/21 [==============================] - 2s 22ms/step - loss: 0.9025 - accuracy: 0.6134 - val_loss: 0.7050 - val_accuracy: 0.8053\n",
      "Epoch 2/20\n",
      "21/21 [==============================] - 0s 6ms/step - loss: 0.6866 - accuracy: 0.7929 - val_loss: 0.5759 - val_accuracy: 0.8378\n",
      "Epoch 3/20\n",
      "21/21 [==============================] - 0s 6ms/step - loss: 0.5853 - accuracy: 0.8136 - val_loss: 0.4823 - val_accuracy: 0.8555\n",
      "Epoch 4/20\n",
      "21/21 [==============================] - 0s 7ms/step - loss: 0.5142 - accuracy: 0.8363 - val_loss: 0.4378 - val_accuracy: 0.8614\n",
      "Epoch 5/20\n",
      "21/21 [==============================] - 0s 7ms/step - loss: 0.4629 - accuracy: 0.8353 - val_loss: 0.4041 - val_accuracy: 0.8673\n",
      "Epoch 6/20\n",
      "21/21 [==============================] - 0s 5ms/step - loss: 0.4480 - accuracy: 0.8412 - val_loss: 0.3910 - val_accuracy: 0.8761\n",
      "Epoch 7/20\n",
      "21/21 [==============================] - 0s 5ms/step - loss: 0.4284 - accuracy: 0.8452 - val_loss: 0.3739 - val_accuracy: 0.8732\n",
      "Epoch 8/20\n",
      "21/21 [==============================] - 0s 9ms/step - loss: 0.4087 - accuracy: 0.8511 - val_loss: 0.3618 - val_accuracy: 0.8791\n",
      "Epoch 9/20\n",
      "21/21 [==============================] - 0s 11ms/step - loss: 0.4014 - accuracy: 0.8491 - val_loss: 0.3522 - val_accuracy: 0.8850\n",
      "Epoch 10/20\n",
      "21/21 [==============================] - 0s 11ms/step - loss: 0.3881 - accuracy: 0.8491 - val_loss: 0.3566 - val_accuracy: 0.8761\n",
      "Epoch 11/20\n",
      "21/21 [==============================] - 0s 10ms/step - loss: 0.3719 - accuracy: 0.8580 - val_loss: 0.3405 - val_accuracy: 0.8909\n",
      "Epoch 12/20\n",
      "21/21 [==============================] - 0s 7ms/step - loss: 0.3771 - accuracy: 0.8501 - val_loss: 0.3358 - val_accuracy: 0.8820\n",
      "Epoch 13/20\n",
      "21/21 [==============================] - 0s 8ms/step - loss: 0.3600 - accuracy: 0.8511 - val_loss: 0.3446 - val_accuracy: 0.8909\n",
      "Epoch 14/20\n",
      "21/21 [==============================] - 0s 11ms/step - loss: 0.3444 - accuracy: 0.8609 - val_loss: 0.3265 - val_accuracy: 0.8938\n",
      "Epoch 15/20\n",
      "21/21 [==============================] - 0s 11ms/step - loss: 0.3515 - accuracy: 0.8570 - val_loss: 0.3252 - val_accuracy: 0.8968\n",
      "Epoch 16/20\n",
      "21/21 [==============================] - 0s 11ms/step - loss: 0.3402 - accuracy: 0.8609 - val_loss: 0.3200 - val_accuracy: 0.8968\n",
      "Epoch 17/20\n",
      "21/21 [==============================] - 0s 11ms/step - loss: 0.3356 - accuracy: 0.8688 - val_loss: 0.3138 - val_accuracy: 0.8968\n",
      "Epoch 18/20\n",
      "21/21 [==============================] - 0s 11ms/step - loss: 0.3326 - accuracy: 0.8669 - val_loss: 0.3135 - val_accuracy: 0.8938\n",
      "Epoch 19/20\n",
      "21/21 [==============================] - 0s 12ms/step - loss: 0.3113 - accuracy: 0.8738 - val_loss: 0.3064 - val_accuracy: 0.8909\n",
      "Epoch 20/20\n",
      "21/21 [==============================] - 0s 11ms/step - loss: 0.3081 - accuracy: 0.8738 - val_loss: 0.3004 - val_accuracy: 0.8909\n"
     ]
    },
    {
     "data": {
      "text/plain": [
       "<keras.callbacks.History at 0x28242dda5b0>"
      ]
     },
     "execution_count": 22,
     "metadata": {},
     "output_type": "execute_result"
    }
   ],
   "source": [
    "mlp_model_2.fit(\n",
    "    xtrain_categorical, ytrain_categorical,\n",
    "    batch_size = batch_size_2,\n",
    "    epochs = 20,\n",
    "    validation_data = (xtest_categorical, ytest_categorical),\n",
    "    shuffle = True)"
   ]
  },
  {
   "cell_type": "code",
   "execution_count": 23,
   "id": "b5041d40-9b32-4cad-8afd-418585f38774",
   "metadata": {},
   "outputs": [
    {
     "name": "stdout",
     "output_type": "stream",
     "text": [
      "\n",
      "Accuracy: 89.1%\n"
     ]
    }
   ],
   "source": [
    "_, acc2 = mlp_model_2.evaluate(xtest_categorical, ytest_categorical, batch_size = batch_size_2, verbose = 0)\n",
    "\n",
    "print(\"\")\n",
    "print(\"Accuracy: %.1f%%\" % (100.0 * acc2))"
   ]
  },
  {
   "cell_type": "markdown",
   "id": "446e47da-1118-4f36-948e-5184014c238c",
   "metadata": {
    "tags": []
   },
   "source": [
    "### MLP Variation 2\n",
    "    - Model is deeper as it has 4 Dense layers all using relu activation function."
   ]
  },
  {
   "cell_type": "code",
   "execution_count": 28,
   "id": "02405904-b423-4403-a1f4-4d0ba4f9bd17",
   "metadata": {},
   "outputs": [
    {
     "name": "stdout",
     "output_type": "stream",
     "text": [
      "Model: \"sequential_3\"\n",
      "_________________________________________________________________\n",
      " Layer (type)                Output Shape              Param #   \n",
      "=================================================================\n",
      " dense_11 (Dense)            (None, 200)               5200      \n",
      "                                                                 \n",
      " dropout_8 (Dropout)         (None, 200)               0         \n",
      "                                                                 \n",
      " dense_12 (Dense)            (None, 200)               40200     \n",
      "                                                                 \n",
      " dropout_9 (Dropout)         (None, 200)               0         \n",
      "                                                                 \n",
      " dense_13 (Dense)            (None, 200)               40200     \n",
      "                                                                 \n",
      " dropout_10 (Dropout)        (None, 200)               0         \n",
      "                                                                 \n",
      " dense_14 (Dense)            (None, 200)               40200     \n",
      "                                                                 \n",
      " dropout_11 (Dropout)        (None, 200)               0         \n",
      "                                                                 \n",
      " dense_15 (Dense)            (None, 3)                 603       \n",
      "                                                                 \n",
      "=================================================================\n",
      "Total params: 126,403\n",
      "Trainable params: 126,403\n",
      "Non-trainable params: 0\n",
      "_________________________________________________________________\n"
     ]
    }
   ],
   "source": [
    "mlp_model_3 = Sequential()\n",
    "\n",
    "mlp_model_3.add(Dense(200, activation = 'relu', input_dim = xtrain_categorical.shape[1]))\n",
    "mlp_model_3.add(Dropout(0.2))\n",
    "mlp_model_3.add(Dense(200, activation = 'relu'))\n",
    "mlp_model_3.add(Dropout(0.2))\n",
    "mlp_model_3.add(Dense(200, activation = 'relu'))\n",
    "mlp_model_3.add(Dropout(0.2))\n",
    "mlp_model_3.add(Dense(200, activation = 'relu'))\n",
    "mlp_model_3.add(Dropout(0.2))\n",
    "\n",
    "mlp_model_3.add(Dense(3, activation = 'softmax')) # change softmax\n",
    "\n",
    "mlp_model_3.summary()"
   ]
  },
  {
   "cell_type": "code",
   "execution_count": 29,
   "id": "a8e8bbe8-8a82-46b0-a29b-ccd7d455078d",
   "metadata": {},
   "outputs": [],
   "source": [
    "batch_size_3 = 64\n",
    "opt_3 = keras.optimizers.RMSprop(lr = 0.0005) \n",
    "\n",
    "mlp_model_3.compile(loss = 'categorical_crossentropy', optimizer = opt_3, metrics = ['accuracy'])"
   ]
  },
  {
   "cell_type": "code",
   "execution_count": 30,
   "id": "e01839db-a69b-43c7-81d7-8a6635b62c05",
   "metadata": {},
   "outputs": [
    {
     "name": "stdout",
     "output_type": "stream",
     "text": [
      "Epoch 1/20\n",
      "16/16 [==============================] - 2s 35ms/step - loss: 0.7789 - accuracy: 0.6667 - val_loss: 0.5041 - val_accuracy: 0.8260\n",
      "Epoch 2/20\n",
      "16/16 [==============================] - 0s 12ms/step - loss: 0.4894 - accuracy: 0.8294 - val_loss: 0.3873 - val_accuracy: 0.8555\n",
      "Epoch 3/20\n",
      "16/16 [==============================] - 0s 12ms/step - loss: 0.4514 - accuracy: 0.8373 - val_loss: 0.3727 - val_accuracy: 0.8820\n",
      "Epoch 4/20\n",
      "16/16 [==============================] - 0s 12ms/step - loss: 0.4082 - accuracy: 0.8422 - val_loss: 0.3378 - val_accuracy: 0.8850\n",
      "Epoch 5/20\n",
      "16/16 [==============================] - 0s 12ms/step - loss: 0.3884 - accuracy: 0.8560 - val_loss: 0.3201 - val_accuracy: 0.8879\n",
      "Epoch 6/20\n",
      "16/16 [==============================] - 0s 12ms/step - loss: 0.3693 - accuracy: 0.8600 - val_loss: 0.3116 - val_accuracy: 0.8791\n",
      "Epoch 7/20\n",
      "16/16 [==============================] - 0s 12ms/step - loss: 0.3479 - accuracy: 0.8659 - val_loss: 0.2951 - val_accuracy: 0.8909\n",
      "Epoch 8/20\n",
      "16/16 [==============================] - 0s 12ms/step - loss: 0.3509 - accuracy: 0.8560 - val_loss: 0.2891 - val_accuracy: 0.8850\n",
      "Epoch 9/20\n",
      "16/16 [==============================] - 0s 12ms/step - loss: 0.3128 - accuracy: 0.8708 - val_loss: 0.2950 - val_accuracy: 0.8820\n",
      "Epoch 10/20\n",
      "16/16 [==============================] - 0s 12ms/step - loss: 0.3071 - accuracy: 0.8698 - val_loss: 0.2953 - val_accuracy: 0.8968\n",
      "Epoch 11/20\n",
      "16/16 [==============================] - 0s 12ms/step - loss: 0.2656 - accuracy: 0.8955 - val_loss: 0.2860 - val_accuracy: 0.8938\n",
      "Epoch 12/20\n",
      "16/16 [==============================] - 0s 14ms/step - loss: 0.2860 - accuracy: 0.8905 - val_loss: 0.2691 - val_accuracy: 0.8909\n",
      "Epoch 13/20\n",
      "16/16 [==============================] - 0s 17ms/step - loss: 0.2919 - accuracy: 0.8817 - val_loss: 0.2757 - val_accuracy: 0.8968\n",
      "Epoch 14/20\n",
      "16/16 [==============================] - 0s 14ms/step - loss: 0.2462 - accuracy: 0.8974 - val_loss: 0.2931 - val_accuracy: 0.8938\n",
      "Epoch 15/20\n",
      "16/16 [==============================] - 0s 23ms/step - loss: 0.2392 - accuracy: 0.9083 - val_loss: 0.2710 - val_accuracy: 0.9056\n",
      "Epoch 16/20\n",
      "16/16 [==============================] - 0s 23ms/step - loss: 0.2378 - accuracy: 0.9043 - val_loss: 0.2693 - val_accuracy: 0.9056\n",
      "Epoch 17/20\n",
      "16/16 [==============================] - 0s 14ms/step - loss: 0.2353 - accuracy: 0.9043 - val_loss: 0.2710 - val_accuracy: 0.9115\n",
      "Epoch 18/20\n",
      "16/16 [==============================] - 0s 19ms/step - loss: 0.2252 - accuracy: 0.9063 - val_loss: 0.2796 - val_accuracy: 0.8997\n",
      "Epoch 19/20\n",
      "16/16 [==============================] - 0s 22ms/step - loss: 0.2052 - accuracy: 0.9231 - val_loss: 0.2704 - val_accuracy: 0.9027\n",
      "Epoch 20/20\n",
      "16/16 [==============================] - 0s 21ms/step - loss: 0.2162 - accuracy: 0.9093 - val_loss: 0.2706 - val_accuracy: 0.8968\n"
     ]
    },
    {
     "data": {
      "text/plain": [
       "<keras.callbacks.History at 0x282450e90d0>"
      ]
     },
     "execution_count": 30,
     "metadata": {},
     "output_type": "execute_result"
    }
   ],
   "source": [
    "mlp_model_3.fit(\n",
    "    xtrain_categorical, ytrain_categorical,\n",
    "    batch_size = batch_size_3,\n",
    "    epochs = 20,\n",
    "    validation_data = (xtest_categorical, ytest_categorical),\n",
    "    shuffle = True)"
   ]
  },
  {
   "cell_type": "code",
   "execution_count": 31,
   "id": "acecbd1a-eac2-452b-843b-f0fbd5c85544",
   "metadata": {},
   "outputs": [
    {
     "name": "stdout",
     "output_type": "stream",
     "text": [
      "\n",
      "Accuracy: 89.7%\n"
     ]
    }
   ],
   "source": [
    "_, acc3 = mlp_model_3.evaluate(xtest_categorical, ytest_categorical, batch_size = batch_size_3, verbose = 0)\n",
    "\n",
    "print(\"\")\n",
    "print(\"Accuracy: %.1f%%\" % (100.0 * acc3))"
   ]
  },
  {
   "cell_type": "code",
   "execution_count": 102,
   "id": "e16089d8-fc49-4092-be4e-b5e067a2866e",
   "metadata": {},
   "outputs": [],
   "source": [
    "# Lets try changing the optimizers to see if we can achieve a better performance\n",
    "opt_3_adam = keras.optimizers.Adam(lr = 0.0005)\n",
    "opt_3_sgd = keras.optimizers.SGD(lr = 0.0005)\n",
    "opt_3_adagrad = keras.optimizers.Adagrad(lr = 0.0005)"
   ]
  },
  {
   "cell_type": "markdown",
   "id": "d778f24a-c42d-44a1-90a2-9c1a97bcdbf2",
   "metadata": {
    "tags": []
   },
   "source": [
    "### Adam Optimizer"
   ]
  },
  {
   "cell_type": "code",
   "execution_count": 103,
   "id": "0f677803-388a-456b-b1a3-fa4a927accc9",
   "metadata": {},
   "outputs": [
    {
     "name": "stdout",
     "output_type": "stream",
     "text": [
      "Epoch 1/20\n",
      "16/16 [==============================] - 2s 35ms/step - loss: 0.2188 - accuracy: 0.9152 - val_loss: 0.2793 - val_accuracy: 0.9027\n",
      "Epoch 2/20\n",
      "16/16 [==============================] - 0s 12ms/step - loss: 0.1999 - accuracy: 0.9191 - val_loss: 0.2807 - val_accuracy: 0.8997\n",
      "Epoch 3/20\n",
      "16/16 [==============================] - 0s 11ms/step - loss: 0.1756 - accuracy: 0.9329 - val_loss: 0.2763 - val_accuracy: 0.8997\n",
      "Epoch 4/20\n",
      "16/16 [==============================] - 0s 12ms/step - loss: 0.1900 - accuracy: 0.9260 - val_loss: 0.2774 - val_accuracy: 0.9174\n",
      "Epoch 5/20\n",
      "16/16 [==============================] - 0s 12ms/step - loss: 0.1939 - accuracy: 0.9250 - val_loss: 0.2729 - val_accuracy: 0.9027\n",
      "Epoch 6/20\n",
      "16/16 [==============================] - 0s 12ms/step - loss: 0.1707 - accuracy: 0.9359 - val_loss: 0.2719 - val_accuracy: 0.9145\n",
      "Epoch 7/20\n",
      "16/16 [==============================] - 0s 11ms/step - loss: 0.1580 - accuracy: 0.9270 - val_loss: 0.2731 - val_accuracy: 0.9027\n",
      "Epoch 8/20\n",
      "16/16 [==============================] - 0s 14ms/step - loss: 0.1739 - accuracy: 0.9310 - val_loss: 0.2887 - val_accuracy: 0.9056\n",
      "Epoch 9/20\n",
      "16/16 [==============================] - 0s 16ms/step - loss: 0.1562 - accuracy: 0.9310 - val_loss: 0.2758 - val_accuracy: 0.9174\n",
      "Epoch 10/20\n",
      "16/16 [==============================] - 0s 23ms/step - loss: 0.1807 - accuracy: 0.9191 - val_loss: 0.2815 - val_accuracy: 0.9115\n",
      "Epoch 11/20\n",
      "16/16 [==============================] - 0s 14ms/step - loss: 0.1581 - accuracy: 0.9290 - val_loss: 0.2845 - val_accuracy: 0.9145\n",
      "Epoch 12/20\n",
      "16/16 [==============================] - 0s 18ms/step - loss: 0.1706 - accuracy: 0.9310 - val_loss: 0.2847 - val_accuracy: 0.9145\n",
      "Epoch 13/20\n",
      "16/16 [==============================] - 0s 16ms/step - loss: 0.1507 - accuracy: 0.9359 - val_loss: 0.2929 - val_accuracy: 0.9174\n",
      "Epoch 14/20\n",
      "16/16 [==============================] - 0s 25ms/step - loss: 0.1550 - accuracy: 0.9339 - val_loss: 0.2979 - val_accuracy: 0.9115\n",
      "Epoch 15/20\n",
      "16/16 [==============================] - 0s 24ms/step - loss: 0.1382 - accuracy: 0.9477 - val_loss: 0.3023 - val_accuracy: 0.9115\n",
      "Epoch 16/20\n",
      "16/16 [==============================] - 0s 22ms/step - loss: 0.1424 - accuracy: 0.9408 - val_loss: 0.2932 - val_accuracy: 0.9145\n",
      "Epoch 17/20\n",
      "16/16 [==============================] - 0s 25ms/step - loss: 0.1537 - accuracy: 0.9379 - val_loss: 0.2964 - val_accuracy: 0.9056\n",
      "Epoch 18/20\n",
      "16/16 [==============================] - 0s 25ms/step - loss: 0.1484 - accuracy: 0.9359 - val_loss: 0.3038 - val_accuracy: 0.9086\n",
      "Epoch 19/20\n",
      "16/16 [==============================] - 0s 24ms/step - loss: 0.1421 - accuracy: 0.9448 - val_loss: 0.2932 - val_accuracy: 0.9145\n",
      "Epoch 20/20\n",
      "16/16 [==============================] - 0s 22ms/step - loss: 0.1322 - accuracy: 0.9408 - val_loss: 0.3137 - val_accuracy: 0.9145\n",
      "\n",
      "Accuracy: 91.4%\n"
     ]
    }
   ],
   "source": [
    "mlp_model_3.compile(loss = 'categorical_crossentropy', optimizer = opt_3_adam, metrics = ['accuracy'])\n",
    "\n",
    "mlp_model_3.fit(\n",
    "    xtrain_categorical, ytrain_categorical,\n",
    "    batch_size = batch_size_3,\n",
    "    epochs = 20,\n",
    "    validation_data = (xtest_categorical, ytest_categorical),\n",
    "    shuffle = True)\n",
    "\n",
    "_, acc3 = mlp_model_3.evaluate(xtest_categorical, ytest_categorical, batch_size = batch_size_3, verbose = 0)\n",
    "\n",
    "print(\"\")\n",
    "print(\"Accuracy: %.1f%%\" % (100.0 * acc3))"
   ]
  },
  {
   "cell_type": "markdown",
   "id": "277ce7a8-f92e-404b-8dd5-3ec109d68f56",
   "metadata": {
    "tags": []
   },
   "source": [
    "### SGD Optimizer"
   ]
  },
  {
   "cell_type": "code",
   "execution_count": 104,
   "id": "768da002-370a-4e7a-8568-46a497f8afdd",
   "metadata": {},
   "outputs": [
    {
     "name": "stdout",
     "output_type": "stream",
     "text": [
      "Epoch 1/20\n",
      "16/16 [==============================] - 2s 39ms/step - loss: 0.1426 - accuracy: 0.9379 - val_loss: 0.3129 - val_accuracy: 0.9145\n",
      "Epoch 2/20\n",
      "16/16 [==============================] - 0s 11ms/step - loss: 0.1360 - accuracy: 0.9379 - val_loss: 0.3123 - val_accuracy: 0.9145\n",
      "Epoch 3/20\n",
      "16/16 [==============================] - 0s 12ms/step - loss: 0.1326 - accuracy: 0.9408 - val_loss: 0.3116 - val_accuracy: 0.9145\n",
      "Epoch 4/20\n",
      "16/16 [==============================] - 0s 11ms/step - loss: 0.1439 - accuracy: 0.9290 - val_loss: 0.3110 - val_accuracy: 0.9145\n",
      "Epoch 5/20\n",
      "16/16 [==============================] - 0s 12ms/step - loss: 0.1368 - accuracy: 0.9448 - val_loss: 0.3103 - val_accuracy: 0.9145\n",
      "Epoch 6/20\n",
      "16/16 [==============================] - 0s 12ms/step - loss: 0.1277 - accuracy: 0.9487 - val_loss: 0.3099 - val_accuracy: 0.9145\n",
      "Epoch 7/20\n",
      "16/16 [==============================] - 0s 11ms/step - loss: 0.1409 - accuracy: 0.9418 - val_loss: 0.3096 - val_accuracy: 0.9145\n",
      "Epoch 8/20\n",
      "16/16 [==============================] - 0s 13ms/step - loss: 0.1324 - accuracy: 0.9369 - val_loss: 0.3092 - val_accuracy: 0.9145\n",
      "Epoch 9/20\n",
      "16/16 [==============================] - 0s 12ms/step - loss: 0.1235 - accuracy: 0.9477 - val_loss: 0.3091 - val_accuracy: 0.9145\n",
      "Epoch 10/20\n",
      "16/16 [==============================] - 0s 13ms/step - loss: 0.1289 - accuracy: 0.9418 - val_loss: 0.3087 - val_accuracy: 0.9145\n",
      "Epoch 11/20\n",
      "16/16 [==============================] - 0s 25ms/step - loss: 0.1248 - accuracy: 0.9448 - val_loss: 0.3085 - val_accuracy: 0.9145\n",
      "Epoch 12/20\n",
      "16/16 [==============================] - 0s 25ms/step - loss: 0.1295 - accuracy: 0.9477 - val_loss: 0.3083 - val_accuracy: 0.9115\n",
      "Epoch 13/20\n",
      "16/16 [==============================] - 0s 22ms/step - loss: 0.1374 - accuracy: 0.9448 - val_loss: 0.3080 - val_accuracy: 0.9115\n",
      "Epoch 14/20\n",
      "16/16 [==============================] - 0s 21ms/step - loss: 0.1304 - accuracy: 0.9448 - val_loss: 0.3076 - val_accuracy: 0.9115\n",
      "Epoch 15/20\n",
      "16/16 [==============================] - 0s 24ms/step - loss: 0.1278 - accuracy: 0.9507 - val_loss: 0.3074 - val_accuracy: 0.9115\n",
      "Epoch 16/20\n",
      "16/16 [==============================] - 0s 22ms/step - loss: 0.1374 - accuracy: 0.9428 - val_loss: 0.3072 - val_accuracy: 0.9115\n",
      "Epoch 17/20\n",
      "16/16 [==============================] - 0s 21ms/step - loss: 0.1229 - accuracy: 0.9497 - val_loss: 0.3070 - val_accuracy: 0.9115\n",
      "Epoch 18/20\n",
      "16/16 [==============================] - 0s 21ms/step - loss: 0.1390 - accuracy: 0.9398 - val_loss: 0.3068 - val_accuracy: 0.9115\n",
      "Epoch 19/20\n",
      "16/16 [==============================] - 0s 22ms/step - loss: 0.1348 - accuracy: 0.9428 - val_loss: 0.3067 - val_accuracy: 0.9115\n",
      "Epoch 20/20\n",
      "16/16 [==============================] - 0s 21ms/step - loss: 0.1297 - accuracy: 0.9438 - val_loss: 0.3065 - val_accuracy: 0.9174\n",
      "\n",
      "Accuracy: 91.7%\n"
     ]
    }
   ],
   "source": [
    "mlp_model_3.compile(loss = 'categorical_crossentropy', optimizer = opt_3_sgd, metrics = ['accuracy'])\n",
    "\n",
    "mlp_model_3.fit(\n",
    "    xtrain_categorical, ytrain_categorical,\n",
    "    batch_size = batch_size_3,\n",
    "    epochs = 20,\n",
    "    validation_data = (xtest_categorical, ytest_categorical),\n",
    "    shuffle = True)\n",
    "\n",
    "_, acc3 = mlp_model_3.evaluate(xtest_categorical, ytest_categorical, batch_size = batch_size_3, verbose = 0)\n",
    "\n",
    "print(\"\")\n",
    "print(\"Accuracy: %.1f%%\" % (100.0 * acc3))"
   ]
  },
  {
   "cell_type": "markdown",
   "id": "3e3d96d2-c4bf-4126-ac3a-69f1d051b4ef",
   "metadata": {
    "tags": []
   },
   "source": [
    "### Adagrad Optimizer"
   ]
  },
  {
   "cell_type": "code",
   "execution_count": 105,
   "id": "ab4ab1c9-f246-444c-89bc-cea4617050db",
   "metadata": {},
   "outputs": [
    {
     "name": "stdout",
     "output_type": "stream",
     "text": [
      "Epoch 1/20\n",
      "16/16 [==============================] - 2s 54ms/step - loss: 0.1300 - accuracy: 0.9467 - val_loss: 0.3063 - val_accuracy: 0.9174\n",
      "Epoch 2/20\n",
      "16/16 [==============================] - 0s 20ms/step - loss: 0.1236 - accuracy: 0.9536 - val_loss: 0.3062 - val_accuracy: 0.9174\n",
      "Epoch 3/20\n",
      "16/16 [==============================] - 0s 20ms/step - loss: 0.1320 - accuracy: 0.9438 - val_loss: 0.3057 - val_accuracy: 0.9145\n",
      "Epoch 4/20\n",
      "16/16 [==============================] - 0s 12ms/step - loss: 0.1309 - accuracy: 0.9448 - val_loss: 0.3057 - val_accuracy: 0.9174\n",
      "Epoch 5/20\n",
      "16/16 [==============================] - 0s 13ms/step - loss: 0.1250 - accuracy: 0.9507 - val_loss: 0.3057 - val_accuracy: 0.9204\n",
      "Epoch 6/20\n",
      "16/16 [==============================] - 0s 25ms/step - loss: 0.1204 - accuracy: 0.9507 - val_loss: 0.3058 - val_accuracy: 0.9204\n",
      "Epoch 7/20\n",
      "16/16 [==============================] - 0s 24ms/step - loss: 0.1378 - accuracy: 0.9398 - val_loss: 0.3056 - val_accuracy: 0.9204\n",
      "Epoch 8/20\n",
      "16/16 [==============================] - 0s 27ms/step - loss: 0.1204 - accuracy: 0.9487 - val_loss: 0.3057 - val_accuracy: 0.9204\n",
      "Epoch 9/20\n",
      "16/16 [==============================] - 0s 24ms/step - loss: 0.1331 - accuracy: 0.9467 - val_loss: 0.3058 - val_accuracy: 0.9115\n",
      "Epoch 10/20\n",
      "16/16 [==============================] - 0s 20ms/step - loss: 0.1332 - accuracy: 0.9428 - val_loss: 0.3055 - val_accuracy: 0.9174\n",
      "Epoch 11/20\n",
      "16/16 [==============================] - 0s 23ms/step - loss: 0.1183 - accuracy: 0.9487 - val_loss: 0.3054 - val_accuracy: 0.9174\n",
      "Epoch 12/20\n",
      "16/16 [==============================] - 0s 21ms/step - loss: 0.1232 - accuracy: 0.9497 - val_loss: 0.3055 - val_accuracy: 0.9145\n",
      "Epoch 13/20\n",
      "16/16 [==============================] - 0s 25ms/step - loss: 0.1287 - accuracy: 0.9418 - val_loss: 0.3053 - val_accuracy: 0.9145\n",
      "Epoch 14/20\n",
      "16/16 [==============================] - 0s 23ms/step - loss: 0.1256 - accuracy: 0.9458 - val_loss: 0.3053 - val_accuracy: 0.9145\n",
      "Epoch 15/20\n",
      "16/16 [==============================] - 0s 22ms/step - loss: 0.1327 - accuracy: 0.9438 - val_loss: 0.3053 - val_accuracy: 0.9145\n",
      "Epoch 16/20\n",
      "16/16 [==============================] - 0s 20ms/step - loss: 0.1347 - accuracy: 0.9379 - val_loss: 0.3052 - val_accuracy: 0.9115\n",
      "Epoch 17/20\n",
      "16/16 [==============================] - 0s 23ms/step - loss: 0.1328 - accuracy: 0.9428 - val_loss: 0.3051 - val_accuracy: 0.9115\n",
      "Epoch 18/20\n",
      "16/16 [==============================] - 0s 24ms/step - loss: 0.1286 - accuracy: 0.9408 - val_loss: 0.3051 - val_accuracy: 0.9086\n",
      "Epoch 19/20\n",
      "16/16 [==============================] - 0s 21ms/step - loss: 0.1397 - accuracy: 0.9438 - val_loss: 0.3051 - val_accuracy: 0.9086\n",
      "Epoch 20/20\n",
      "16/16 [==============================] - 0s 21ms/step - loss: 0.1334 - accuracy: 0.9458 - val_loss: 0.3051 - val_accuracy: 0.9086\n",
      "\n",
      "Accuracy: 90.9%\n"
     ]
    }
   ],
   "source": [
    "mlp_model_3.compile(loss = 'categorical_crossentropy', optimizer = opt_3_adagrad, metrics = ['accuracy'])\n",
    "\n",
    "mlp_model_3.fit(\n",
    "    xtrain_categorical, ytrain_categorical,\n",
    "    batch_size = batch_size_3,\n",
    "    epochs = 20,\n",
    "    validation_data = (xtest_categorical, ytest_categorical),\n",
    "    shuffle = True)\n",
    "\n",
    "_, acc3 = mlp_model_3.evaluate(xtest_categorical, ytest_categorical, batch_size = batch_size_3, verbose = 0)\n",
    "\n",
    "print(\"\")\n",
    "print(\"Accuracy: %.1f%%\" % (100.0 * acc3))"
   ]
  },
  {
   "cell_type": "markdown",
   "id": "b9df7e3c-924d-4d0f-be8b-4ebdf99adb10",
   "metadata": {
    "tags": []
   },
   "source": [
    "### MLP Variation\n",
    "    - Many Layers\n",
    "    - Now Using tanh"
   ]
  },
  {
   "cell_type": "code",
   "execution_count": 82,
   "id": "f74a7eda-5f7a-4eac-9fbd-f0a9b038e690",
   "metadata": {},
   "outputs": [
    {
     "name": "stdout",
     "output_type": "stream",
     "text": [
      "Model: \"sequential_16\"\n",
      "_________________________________________________________________\n",
      " Layer (type)                Output Shape              Param #   \n",
      "=================================================================\n",
      " dense_56 (Dense)            (None, 200)               5200      \n",
      "                                                                 \n",
      " dropout_40 (Dropout)        (None, 200)               0         \n",
      "                                                                 \n",
      " dense_57 (Dense)            (None, 200)               40200     \n",
      "                                                                 \n",
      " dropout_41 (Dropout)        (None, 200)               0         \n",
      "                                                                 \n",
      " dense_58 (Dense)            (None, 200)               40200     \n",
      "                                                                 \n",
      " dropout_42 (Dropout)        (None, 200)               0         \n",
      "                                                                 \n",
      " dense_59 (Dense)            (None, 200)               40200     \n",
      "                                                                 \n",
      " dropout_43 (Dropout)        (None, 200)               0         \n",
      "                                                                 \n",
      " dense_60 (Dense)            (None, 3)                 603       \n",
      "                                                                 \n",
      "=================================================================\n",
      "Total params: 126,403\n",
      "Trainable params: 126,403\n",
      "Non-trainable params: 0\n",
      "_________________________________________________________________\n"
     ]
    }
   ],
   "source": [
    "mlp_model_7 = Sequential()\n",
    "\n",
    "mlp_model_7.add(Dense(200, activation = 'tanh', input_dim = xtrain_categorical.shape[1]))\n",
    "mlp_model_7.add(Dropout(0.2))\n",
    "mlp_model_7.add(Dense(200, activation = 'tanh'))\n",
    "mlp_model_7.add(Dropout(0.2))\n",
    "mlp_model_7.add(Dense(200, activation = 'tanh'))\n",
    "mlp_model_7.add(Dropout(0.2))\n",
    "mlp_model_7.add(Dense(200, activation = 'tanh'))\n",
    "mlp_model_7.add(Dropout(0.2))\n",
    "\n",
    "mlp_model_7.add(Dense(3, activation = 'softmax')) # change softmax\n",
    "\n",
    "mlp_model_7.summary()"
   ]
  },
  {
   "cell_type": "code",
   "execution_count": 83,
   "id": "a2d6705d-96d9-4641-9e0f-921a6e7c7968",
   "metadata": {},
   "outputs": [],
   "source": [
    "batch_size_7 = 64\n",
    "opt_7 = keras.optimizers.RMSprop(lr = 0.0005) \n",
    "\n",
    "mlp_model_7.compile(loss = 'categorical_crossentropy', optimizer = opt_7, metrics = ['accuracy'])"
   ]
  },
  {
   "cell_type": "code",
   "execution_count": 84,
   "id": "74c2ec34-530d-4cb1-806d-7282f53ec8b0",
   "metadata": {},
   "outputs": [
    {
     "name": "stdout",
     "output_type": "stream",
     "text": [
      "Epoch 1/20\n",
      "16/16 [==============================] - 2s 35ms/step - loss: 0.5521 - accuracy: 0.7998 - val_loss: 0.3945 - val_accuracy: 0.8555\n",
      "Epoch 2/20\n",
      "16/16 [==============================] - 0s 11ms/step - loss: 0.4507 - accuracy: 0.8353 - val_loss: 0.3941 - val_accuracy: 0.8614\n",
      "Epoch 3/20\n",
      "16/16 [==============================] - 0s 13ms/step - loss: 0.4394 - accuracy: 0.8363 - val_loss: 0.3531 - val_accuracy: 0.8761\n",
      "Epoch 4/20\n",
      "16/16 [==============================] - 0s 13ms/step - loss: 0.4064 - accuracy: 0.8491 - val_loss: 0.3633 - val_accuracy: 0.8673\n",
      "Epoch 5/20\n",
      "16/16 [==============================] - 0s 19ms/step - loss: 0.3983 - accuracy: 0.8452 - val_loss: 0.3616 - val_accuracy: 0.8791\n",
      "Epoch 6/20\n",
      "16/16 [==============================] - 0s 19ms/step - loss: 0.4079 - accuracy: 0.8501 - val_loss: 0.3343 - val_accuracy: 0.8850\n",
      "Epoch 7/20\n",
      "16/16 [==============================] - 0s 21ms/step - loss: 0.3936 - accuracy: 0.8412 - val_loss: 0.3211 - val_accuracy: 0.8820\n",
      "Epoch 8/20\n",
      "16/16 [==============================] - 0s 23ms/step - loss: 0.3786 - accuracy: 0.8531 - val_loss: 0.3432 - val_accuracy: 0.8702\n",
      "Epoch 9/20\n",
      "16/16 [==============================] - 0s 20ms/step - loss: 0.3950 - accuracy: 0.8422 - val_loss: 0.3226 - val_accuracy: 0.8820\n",
      "Epoch 10/20\n",
      "16/16 [==============================] - 0s 21ms/step - loss: 0.3780 - accuracy: 0.8432 - val_loss: 0.3232 - val_accuracy: 0.8879\n",
      "Epoch 11/20\n",
      "16/16 [==============================] - 0s 24ms/step - loss: 0.3912 - accuracy: 0.8462 - val_loss: 0.3236 - val_accuracy: 0.8761\n",
      "Epoch 12/20\n",
      "16/16 [==============================] - 0s 24ms/step - loss: 0.3826 - accuracy: 0.8521 - val_loss: 0.3437 - val_accuracy: 0.8584\n",
      "Epoch 13/20\n",
      "16/16 [==============================] - 0s 24ms/step - loss: 0.3727 - accuracy: 0.8600 - val_loss: 0.3257 - val_accuracy: 0.8555\n",
      "Epoch 14/20\n",
      "16/16 [==============================] - 0s 24ms/step - loss: 0.3853 - accuracy: 0.8550 - val_loss: 0.3315 - val_accuracy: 0.8850\n",
      "Epoch 15/20\n",
      "16/16 [==============================] - 0s 24ms/step - loss: 0.3615 - accuracy: 0.8609 - val_loss: 0.3219 - val_accuracy: 0.8702\n",
      "Epoch 16/20\n",
      "16/16 [==============================] - 0s 23ms/step - loss: 0.3751 - accuracy: 0.8511 - val_loss: 0.3418 - val_accuracy: 0.8702\n",
      "Epoch 17/20\n",
      "16/16 [==============================] - 0s 24ms/step - loss: 0.3688 - accuracy: 0.8501 - val_loss: 0.3104 - val_accuracy: 0.8820\n",
      "Epoch 18/20\n",
      "16/16 [==============================] - 0s 24ms/step - loss: 0.3671 - accuracy: 0.8491 - val_loss: 0.3146 - val_accuracy: 0.8761\n",
      "Epoch 19/20\n",
      "16/16 [==============================] - 0s 24ms/step - loss: 0.3579 - accuracy: 0.8639 - val_loss: 0.3121 - val_accuracy: 0.8850\n",
      "Epoch 20/20\n",
      "16/16 [==============================] - 0s 23ms/step - loss: 0.3432 - accuracy: 0.8531 - val_loss: 0.3081 - val_accuracy: 0.8909\n"
     ]
    },
    {
     "data": {
      "text/plain": [
       "<keras.callbacks.History at 0x282504b59d0>"
      ]
     },
     "execution_count": 84,
     "metadata": {},
     "output_type": "execute_result"
    }
   ],
   "source": [
    "mlp_model_7.fit(\n",
    "    xtrain_categorical, ytrain_categorical,\n",
    "    batch_size = batch_size_7,\n",
    "    epochs = 20,\n",
    "    validation_data = (xtest_categorical, ytest_categorical),\n",
    "    shuffle = True)"
   ]
  },
  {
   "cell_type": "code",
   "execution_count": 85,
   "id": "149d37df-d16b-475d-83c6-f849b2d89024",
   "metadata": {},
   "outputs": [
    {
     "name": "stdout",
     "output_type": "stream",
     "text": [
      "\n",
      "Accuracy: 89.1%\n"
     ]
    }
   ],
   "source": [
    "_, acc7 = mlp_model_7.evaluate(xtest_categorical, ytest_categorical, batch_size = batch_size_7, verbose = 0)\n",
    "\n",
    "print(\"\")\n",
    "print(\"Accuracy: %.1f%%\" % (100.0 * acc7))"
   ]
  },
  {
   "cell_type": "markdown",
   "id": "877fd025-e636-4f54-82c8-e8657d6f2d85",
   "metadata": {
    "tags": []
   },
   "source": [
    "### MLP Variation\n",
    "    - Many Layers\n",
    "    - Using sigmoid"
   ]
  },
  {
   "cell_type": "markdown",
   "id": "f26a4643-70f7-43ac-9df3-e0eca5b00c4a",
   "metadata": {
    "tags": []
   },
   "source": [
    "### MLP Variation 3\n",
    "    - Even Deeper"
   ]
  },
  {
   "cell_type": "code",
   "execution_count": 32,
   "id": "28efdeb9-290b-4b0c-8164-ef25d4b402d1",
   "metadata": {},
   "outputs": [
    {
     "name": "stdout",
     "output_type": "stream",
     "text": [
      "Model: \"sequential_4\"\n",
      "_________________________________________________________________\n",
      " Layer (type)                Output Shape              Param #   \n",
      "=================================================================\n",
      " dense_16 (Dense)            (None, 100)               2600      \n",
      "                                                                 \n",
      " dropout_12 (Dropout)        (None, 100)               0         \n",
      "                                                                 \n",
      " dense_17 (Dense)            (None, 100)               10100     \n",
      "                                                                 \n",
      " dropout_13 (Dropout)        (None, 100)               0         \n",
      "                                                                 \n",
      " dense_18 (Dense)            (None, 100)               10100     \n",
      "                                                                 \n",
      " dropout_14 (Dropout)        (None, 100)               0         \n",
      "                                                                 \n",
      " dense_19 (Dense)            (None, 100)               10100     \n",
      "                                                                 \n",
      " dropout_15 (Dropout)        (None, 100)               0         \n",
      "                                                                 \n",
      " dense_20 (Dense)            (None, 100)               10100     \n",
      "                                                                 \n",
      " dropout_16 (Dropout)        (None, 100)               0         \n",
      "                                                                 \n",
      " dense_21 (Dense)            (None, 100)               10100     \n",
      "                                                                 \n",
      " dropout_17 (Dropout)        (None, 100)               0         \n",
      "                                                                 \n",
      " dense_22 (Dense)            (None, 3)                 303       \n",
      "                                                                 \n",
      "=================================================================\n",
      "Total params: 53,403\n",
      "Trainable params: 53,403\n",
      "Non-trainable params: 0\n",
      "_________________________________________________________________\n"
     ]
    }
   ],
   "source": [
    "mlp_model_4 = Sequential()\n",
    "\n",
    "mlp_model_4.add(Dense(100, activation = 'relu', input_dim = xtrain_categorical.shape[1]))\n",
    "mlp_model_4.add(Dropout(0.2))\n",
    "mlp_model_4.add(Dense(100, activation = 'relu'))\n",
    "mlp_model_4.add(Dropout(0.2))\n",
    "mlp_model_4.add(Dense(100, activation = 'relu', input_dim = xtrain_categorical.shape[1]))\n",
    "mlp_model_4.add(Dropout(0.2))\n",
    "mlp_model_4.add(Dense(100, activation = 'relu'))\n",
    "mlp_model_4.add(Dropout(0.2))\n",
    "mlp_model_4.add(Dense(100, activation = 'relu', input_dim = xtrain_categorical.shape[1]))\n",
    "mlp_model_4.add(Dropout(0.2))\n",
    "mlp_model_4.add(Dense(100, activation = 'relu'))\n",
    "mlp_model_4.add(Dropout(0.2))\n",
    "\n",
    "mlp_model_4.add(Dense(3, activation = 'softmax')) # change softmax\n",
    "\n",
    "mlp_model_4.summary()"
   ]
  },
  {
   "cell_type": "code",
   "execution_count": 33,
   "id": "a1d37ac6-2a09-4669-8d10-f8d0b361c5ed",
   "metadata": {},
   "outputs": [],
   "source": [
    "batch_size_4 = 32\n",
    "opt_4 = keras.optimizers.RMSprop(lr = 0.0005) \n",
    "\n",
    "mlp_model_4.compile(loss = 'categorical_crossentropy', optimizer = opt_4, metrics = ['accuracy'])"
   ]
  },
  {
   "cell_type": "code",
   "execution_count": 34,
   "id": "5cceb02e-6f14-4133-8c50-3fa220935458",
   "metadata": {},
   "outputs": [
    {
     "name": "stdout",
     "output_type": "stream",
     "text": [
      "Epoch 1/20\n",
      "32/32 [==============================] - 3s 17ms/step - loss: 0.9288 - accuracy: 0.5404 - val_loss: 0.7351 - val_accuracy: 0.7906\n",
      "Epoch 2/20\n",
      "32/32 [==============================] - 0s 7ms/step - loss: 0.6581 - accuracy: 0.7446 - val_loss: 0.4933 - val_accuracy: 0.8466\n",
      "Epoch 3/20\n",
      "32/32 [==============================] - 0s 7ms/step - loss: 0.5445 - accuracy: 0.8057 - val_loss: 0.4209 - val_accuracy: 0.8673\n",
      "Epoch 4/20\n",
      "32/32 [==============================] - 0s 9ms/step - loss: 0.4900 - accuracy: 0.8323 - val_loss: 0.4023 - val_accuracy: 0.8673\n",
      "Epoch 5/20\n",
      "32/32 [==============================] - 0s 9ms/step - loss: 0.4683 - accuracy: 0.8343 - val_loss: 0.3875 - val_accuracy: 0.8732\n",
      "Epoch 6/20\n",
      "32/32 [==============================] - 0s 9ms/step - loss: 0.4594 - accuracy: 0.8353 - val_loss: 0.3761 - val_accuracy: 0.8791\n",
      "Epoch 7/20\n",
      "32/32 [==============================] - 0s 8ms/step - loss: 0.4460 - accuracy: 0.8432 - val_loss: 0.3666 - val_accuracy: 0.8791\n",
      "Epoch 8/20\n",
      "32/32 [==============================] - 0s 10ms/step - loss: 0.4311 - accuracy: 0.8402 - val_loss: 0.3721 - val_accuracy: 0.8820\n",
      "Epoch 9/20\n",
      "32/32 [==============================] - 0s 15ms/step - loss: 0.4212 - accuracy: 0.8452 - val_loss: 0.3838 - val_accuracy: 0.8614\n",
      "Epoch 10/20\n",
      "32/32 [==============================] - 0s 14ms/step - loss: 0.4081 - accuracy: 0.8521 - val_loss: 0.3632 - val_accuracy: 0.8732\n",
      "Epoch 11/20\n",
      "32/32 [==============================] - 0s 11ms/step - loss: 0.3938 - accuracy: 0.8462 - val_loss: 0.3483 - val_accuracy: 0.8761\n",
      "Epoch 12/20\n",
      "32/32 [==============================] - 0s 11ms/step - loss: 0.3936 - accuracy: 0.8531 - val_loss: 0.3399 - val_accuracy: 0.8761\n",
      "Epoch 13/20\n",
      "32/32 [==============================] - 0s 15ms/step - loss: 0.3665 - accuracy: 0.8452 - val_loss: 0.3350 - val_accuracy: 0.8761\n",
      "Epoch 14/20\n",
      "32/32 [==============================] - 0s 13ms/step - loss: 0.3673 - accuracy: 0.8491 - val_loss: 0.3299 - val_accuracy: 0.8732\n",
      "Epoch 15/20\n",
      "32/32 [==============================] - 0s 10ms/step - loss: 0.3591 - accuracy: 0.8609 - val_loss: 0.3227 - val_accuracy: 0.8761\n",
      "Epoch 16/20\n",
      "32/32 [==============================] - 0s 13ms/step - loss: 0.3342 - accuracy: 0.8619 - val_loss: 0.3382 - val_accuracy: 0.8850\n",
      "Epoch 17/20\n",
      "32/32 [==============================] - 0s 11ms/step - loss: 0.3460 - accuracy: 0.8580 - val_loss: 0.3251 - val_accuracy: 0.8820\n",
      "Epoch 18/20\n",
      "32/32 [==============================] - 0s 12ms/step - loss: 0.3423 - accuracy: 0.8659 - val_loss: 0.3217 - val_accuracy: 0.8820\n",
      "Epoch 19/20\n",
      "32/32 [==============================] - 0s 13ms/step - loss: 0.3157 - accuracy: 0.8767 - val_loss: 0.3084 - val_accuracy: 0.8820\n",
      "Epoch 20/20\n",
      "32/32 [==============================] - 0s 8ms/step - loss: 0.3027 - accuracy: 0.8767 - val_loss: 0.2962 - val_accuracy: 0.8879\n"
     ]
    },
    {
     "data": {
      "text/plain": [
       "<keras.callbacks.History at 0x282462b3b80>"
      ]
     },
     "execution_count": 34,
     "metadata": {},
     "output_type": "execute_result"
    }
   ],
   "source": [
    "mlp_model_4.fit(\n",
    "    xtrain_categorical, ytrain_categorical,\n",
    "    batch_size = batch_size_4,\n",
    "    epochs = 20,\n",
    "    validation_data = (xtest_categorical, ytest_categorical),\n",
    "    shuffle = True)"
   ]
  },
  {
   "cell_type": "code",
   "execution_count": 36,
   "id": "54205ac2-91e2-4235-a6eb-02f539a85530",
   "metadata": {},
   "outputs": [
    {
     "name": "stdout",
     "output_type": "stream",
     "text": [
      "\n",
      "Accuracy: 88.8%\n"
     ]
    }
   ],
   "source": [
    "_, acc4 = mlp_model_4.evaluate(xtest_categorical, ytest_categorical, batch_size = batch_size_4, verbose = 0)\n",
    "\n",
    "print(\"\")\n",
    "print(\"Accuracy: %.1f%%\" % (100.0 * acc4))"
   ]
  },
  {
   "cell_type": "code",
   "execution_count": 86,
   "id": "31bb4ad7-f840-49c9-afaf-ee0736730784",
   "metadata": {},
   "outputs": [
    {
     "name": "stdout",
     "output_type": "stream",
     "text": [
      "Model: \"sequential_17\"\n",
      "_________________________________________________________________\n",
      " Layer (type)                Output Shape              Param #   \n",
      "=================================================================\n",
      " dense_61 (Dense)            (None, 200)               5200      \n",
      "                                                                 \n",
      " dropout_44 (Dropout)        (None, 200)               0         \n",
      "                                                                 \n",
      " dense_62 (Dense)            (None, 200)               40200     \n",
      "                                                                 \n",
      " dropout_45 (Dropout)        (None, 200)               0         \n",
      "                                                                 \n",
      " dense_63 (Dense)            (None, 200)               40200     \n",
      "                                                                 \n",
      " dropout_46 (Dropout)        (None, 200)               0         \n",
      "                                                                 \n",
      " dense_64 (Dense)            (None, 200)               40200     \n",
      "                                                                 \n",
      " dropout_47 (Dropout)        (None, 200)               0         \n",
      "                                                                 \n",
      " dense_65 (Dense)            (None, 3)                 603       \n",
      "                                                                 \n",
      "=================================================================\n",
      "Total params: 126,403\n",
      "Trainable params: 126,403\n",
      "Non-trainable params: 0\n",
      "_________________________________________________________________\n"
     ]
    }
   ],
   "source": [
    "mlp_model_8 = Sequential()\n",
    "\n",
    "mlp_model_8.add(Dense(200, activation = 'sigmoid', input_dim = xtrain_categorical.shape[1]))\n",
    "mlp_model_8.add(Dropout(0.2))\n",
    "mlp_model_8.add(Dense(200, activation = 'sigmoid'))\n",
    "mlp_model_8.add(Dropout(0.2))\n",
    "mlp_model_8.add(Dense(200, activation = 'sigmoid'))\n",
    "mlp_model_8.add(Dropout(0.2))\n",
    "mlp_model_8.add(Dense(200, activation = 'sigmoid'))\n",
    "mlp_model_8.add(Dropout(0.2))\n",
    "\n",
    "mlp_model_8.add(Dense(3, activation = 'softmax')) # change softmax\n",
    "\n",
    "mlp_model_8.summary()"
   ]
  },
  {
   "cell_type": "code",
   "execution_count": 87,
   "id": "02fe10d5-145e-42d7-9da2-c61ea8ceb195",
   "metadata": {},
   "outputs": [],
   "source": [
    "batch_size_8 = 64\n",
    "opt_8 = keras.optimizers.RMSprop(lr = 0.0005) \n",
    "\n",
    "mlp_model_8.compile(loss = 'categorical_crossentropy', optimizer = opt_8, metrics = ['accuracy'])"
   ]
  },
  {
   "cell_type": "code",
   "execution_count": 88,
   "id": "22a1ce45-524a-44b5-8efd-81484ac235c6",
   "metadata": {},
   "outputs": [
    {
     "name": "stdout",
     "output_type": "stream",
     "text": [
      "Epoch 1/20\n",
      "16/16 [==============================] - 3s 49ms/step - loss: 0.9693 - accuracy: 0.4763 - val_loss: 0.8810 - val_accuracy: 0.4867\n",
      "Epoch 2/20\n",
      "16/16 [==============================] - 0s 12ms/step - loss: 0.9550 - accuracy: 0.4822 - val_loss: 0.9031 - val_accuracy: 0.4867\n",
      "Epoch 3/20\n",
      "16/16 [==============================] - 0s 12ms/step - loss: 0.9375 - accuracy: 0.4941 - val_loss: 0.8744 - val_accuracy: 0.4867\n",
      "Epoch 4/20\n",
      "16/16 [==============================] - 0s 13ms/step - loss: 0.9399 - accuracy: 0.5138 - val_loss: 0.8692 - val_accuracy: 0.4867\n",
      "Epoch 5/20\n",
      "16/16 [==============================] - 0s 13ms/step - loss: 0.9290 - accuracy: 0.5286 - val_loss: 0.9386 - val_accuracy: 0.4867\n",
      "Epoch 6/20\n",
      "16/16 [==============================] - 0s 16ms/step - loss: 0.9299 - accuracy: 0.5306 - val_loss: 0.8627 - val_accuracy: 0.4867\n",
      "Epoch 7/20\n",
      "16/16 [==============================] - 0s 23ms/step - loss: 0.9103 - accuracy: 0.5335 - val_loss: 0.8482 - val_accuracy: 0.4867\n",
      "Epoch 8/20\n",
      "16/16 [==============================] - 0s 21ms/step - loss: 0.8842 - accuracy: 0.5720 - val_loss: 0.8317 - val_accuracy: 0.4867\n",
      "Epoch 9/20\n",
      "16/16 [==============================] - 0s 20ms/step - loss: 0.8435 - accuracy: 0.6144 - val_loss: 0.7540 - val_accuracy: 0.7316\n",
      "Epoch 10/20\n",
      "16/16 [==============================] - 0s 20ms/step - loss: 0.7848 - accuracy: 0.6893 - val_loss: 0.6652 - val_accuracy: 0.8407\n",
      "Epoch 11/20\n",
      "16/16 [==============================] - 0s 19ms/step - loss: 0.7208 - accuracy: 0.7396 - val_loss: 0.5927 - val_accuracy: 0.8407\n",
      "Epoch 12/20\n",
      "16/16 [==============================] - 0s 22ms/step - loss: 0.6410 - accuracy: 0.7850 - val_loss: 0.5256 - val_accuracy: 0.8437\n",
      "Epoch 13/20\n",
      "16/16 [==============================] - 0s 22ms/step - loss: 0.5788 - accuracy: 0.8008 - val_loss: 0.4874 - val_accuracy: 0.8437\n",
      "Epoch 14/20\n",
      "16/16 [==============================] - 0s 24ms/step - loss: 0.5623 - accuracy: 0.8037 - val_loss: 0.4785 - val_accuracy: 0.8437\n",
      "Epoch 15/20\n",
      "16/16 [==============================] - 0s 21ms/step - loss: 0.5406 - accuracy: 0.8057 - val_loss: 0.4568 - val_accuracy: 0.8437\n",
      "Epoch 16/20\n",
      "16/16 [==============================] - 0s 21ms/step - loss: 0.5454 - accuracy: 0.8107 - val_loss: 0.4716 - val_accuracy: 0.8584\n",
      "Epoch 17/20\n",
      "16/16 [==============================] - 0s 22ms/step - loss: 0.5230 - accuracy: 0.8215 - val_loss: 0.4799 - val_accuracy: 0.8260\n",
      "Epoch 18/20\n",
      "16/16 [==============================] - 0s 24ms/step - loss: 0.5267 - accuracy: 0.8254 - val_loss: 0.5134 - val_accuracy: 0.8289\n",
      "Epoch 19/20\n",
      "16/16 [==============================] - 0s 24ms/step - loss: 0.5175 - accuracy: 0.8176 - val_loss: 0.4614 - val_accuracy: 0.8555\n",
      "Epoch 20/20\n",
      "16/16 [==============================] - 0s 25ms/step - loss: 0.5219 - accuracy: 0.8116 - val_loss: 0.4435 - val_accuracy: 0.8614\n"
     ]
    },
    {
     "data": {
      "text/plain": [
       "<keras.callbacks.History at 0x28251684d00>"
      ]
     },
     "execution_count": 88,
     "metadata": {},
     "output_type": "execute_result"
    }
   ],
   "source": [
    "mlp_model_8.fit(\n",
    "    xtrain_categorical, ytrain_categorical,\n",
    "    batch_size = batch_size_8,\n",
    "    epochs = 20,\n",
    "    validation_data = (xtest_categorical, ytest_categorical),\n",
    "    shuffle = True)"
   ]
  },
  {
   "cell_type": "code",
   "execution_count": 89,
   "id": "959025a5-e248-4dd6-8a43-b5e8a724efba",
   "metadata": {},
   "outputs": [
    {
     "name": "stdout",
     "output_type": "stream",
     "text": [
      "\n",
      "Accuracy: 86.1%\n"
     ]
    }
   ],
   "source": [
    "_, acc8 = mlp_model_8.evaluate(xtest_categorical, ytest_categorical, batch_size = batch_size_8, verbose = 0)\n",
    "\n",
    "print(\"\")\n",
    "print(\"Accuracy: %.1f%%\" % (100.0 * acc8))"
   ]
  },
  {
   "cell_type": "markdown",
   "id": "f507a365-6a90-4cb1-a7bb-5ceba4cbce45",
   "metadata": {},
   "source": [
    "### CNN"
   ]
  },
  {
   "cell_type": "code",
   "execution_count": null,
   "id": "9c6c66fb-07c4-4975-9f99-1f5df2eee988",
   "metadata": {},
   "outputs": [],
   "source": [
    "# Conv1D not ideal for a categorical dataframe\n",
    "# cnn = Sequential()\n",
    "\n",
    "# cnn.add(Conv1D(64, ))\n",
    "\n",
    "# sklearn models:\n",
    "    # decision tree classifier\n",
    "    # Gradient Boost"
   ]
  }
 ],
 "metadata": {
  "kernelspec": {
   "display_name": "Python 3 (ipykernel)",
   "language": "python",
   "name": "python3"
  },
  "language_info": {
   "codemirror_mode": {
    "name": "ipython",
    "version": 3
   },
   "file_extension": ".py",
   "mimetype": "text/x-python",
   "name": "python",
   "nbconvert_exporter": "python",
   "pygments_lexer": "ipython3",
   "version": "3.9.6"
  }
 },
 "nbformat": 4,
 "nbformat_minor": 5
}
